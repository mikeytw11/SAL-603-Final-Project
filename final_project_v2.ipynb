{
 "cells": [
  {
   "cell_type": "code",
   "execution_count": 22,
   "id": "04d90cc9-5463-47a8-9446-33fb0d1e8469",
   "metadata": {},
   "outputs": [],
   "source": [
    "from IPython.core.interactiveshell import InteractiveShell\n",
    "InteractiveShell.ast_node_interactivity = \"all\"\n",
    "import pandas as pd\n",
    "import numpy as np\n",
    "import matplotlib.pyplot as plt\n",
    "import seaborn as sns\n",
    "import math\n",
    "import glob\n",
    "import os\n",
    "from matplotlib.offsetbox import OffsetImage, AnnotationBbox\n",
    "\n",
    "#The purpose of this code is to analyze what teams performed the best during the 2010s"
   ]
  },
  {
   "cell_type": "code",
   "execution_count": 23,
   "id": "8d723945-77b2-4543-ae46-8619e49bf4d9",
   "metadata": {},
   "outputs": [
    {
     "data": {
      "text/html": [
       "<div>\n",
       "<style scoped>\n",
       "    .dataframe tbody tr th:only-of-type {\n",
       "        vertical-align: middle;\n",
       "    }\n",
       "\n",
       "    .dataframe tbody tr th {\n",
       "        vertical-align: top;\n",
       "    }\n",
       "\n",
       "    .dataframe thead th {\n",
       "        text-align: right;\n",
       "    }\n",
       "</style>\n",
       "<table border=\"1\" class=\"dataframe\">\n",
       "  <thead>\n",
       "    <tr style=\"text-align: right;\">\n",
       "      <th></th>\n",
       "      <th>Name</th>\n",
       "      <th>Team</th>\n",
       "      <th>Season</th>\n",
       "      <th>GP</th>\n",
       "      <th>TOI</th>\n",
       "      <th>W</th>\n",
       "      <th>L</th>\n",
       "      <th>OL</th>\n",
       "      <th>ROW</th>\n",
       "      <th>Points</th>\n",
       "      <th>Points%</th>\n",
       "      <th>GF</th>\n",
       "      <th>GA</th>\n",
       "      <th>G±</th>\n",
       "      <th>Sh%</th>\n",
       "      <th>Sv%</th>\n",
       "      <th>pts/82</th>\n",
       "    </tr>\n",
       "  </thead>\n",
       "  <tbody>\n",
       "    <tr>\n",
       "      <th>0</th>\n",
       "      <td>Blackhawks</td>\n",
       "      <td>CHI</td>\n",
       "      <td>12-13</td>\n",
       "      <td>48</td>\n",
       "      <td>2945.4</td>\n",
       "      <td>36</td>\n",
       "      <td>7</td>\n",
       "      <td>5</td>\n",
       "      <td>30</td>\n",
       "      <td>77</td>\n",
       "      <td>80.2</td>\n",
       "      <td>155</td>\n",
       "      <td>102</td>\n",
       "      <td>53</td>\n",
       "      <td>10.0</td>\n",
       "      <td>92.3</td>\n",
       "      <td>132</td>\n",
       "    </tr>\n",
       "    <tr>\n",
       "      <th>1</th>\n",
       "      <td>Lightning</td>\n",
       "      <td>T.B</td>\n",
       "      <td>18-19</td>\n",
       "      <td>82</td>\n",
       "      <td>4979.6</td>\n",
       "      <td>62</td>\n",
       "      <td>16</td>\n",
       "      <td>4</td>\n",
       "      <td>56</td>\n",
       "      <td>128</td>\n",
       "      <td>78.0</td>\n",
       "      <td>325</td>\n",
       "      <td>222</td>\n",
       "      <td>103</td>\n",
       "      <td>12.2</td>\n",
       "      <td>91.6</td>\n",
       "      <td>128</td>\n",
       "    </tr>\n",
       "    <tr>\n",
       "      <th>2</th>\n",
       "      <td>Penguins</td>\n",
       "      <td>PIT</td>\n",
       "      <td>12-13</td>\n",
       "      <td>48</td>\n",
       "      <td>2898.4</td>\n",
       "      <td>36</td>\n",
       "      <td>12</td>\n",
       "      <td>0</td>\n",
       "      <td>33</td>\n",
       "      <td>72</td>\n",
       "      <td>75.0</td>\n",
       "      <td>165</td>\n",
       "      <td>119</td>\n",
       "      <td>46</td>\n",
       "      <td>11.3</td>\n",
       "      <td>91.5</td>\n",
       "      <td>123</td>\n",
       "    </tr>\n",
       "    <tr>\n",
       "      <th>3</th>\n",
       "      <td>Capitals</td>\n",
       "      <td>WSH</td>\n",
       "      <td>15-16</td>\n",
       "      <td>82</td>\n",
       "      <td>4982.7</td>\n",
       "      <td>56</td>\n",
       "      <td>18</td>\n",
       "      <td>8</td>\n",
       "      <td>52</td>\n",
       "      <td>120</td>\n",
       "      <td>73.2</td>\n",
       "      <td>252</td>\n",
       "      <td>193</td>\n",
       "      <td>59</td>\n",
       "      <td>9.9</td>\n",
       "      <td>91.8</td>\n",
       "      <td>120</td>\n",
       "    </tr>\n",
       "    <tr>\n",
       "      <th>4</th>\n",
       "      <td>Capitals</td>\n",
       "      <td>WSH</td>\n",
       "      <td>16-17</td>\n",
       "      <td>82</td>\n",
       "      <td>4973.1</td>\n",
       "      <td>55</td>\n",
       "      <td>19</td>\n",
       "      <td>8</td>\n",
       "      <td>53</td>\n",
       "      <td>118</td>\n",
       "      <td>72.0</td>\n",
       "      <td>263</td>\n",
       "      <td>182</td>\n",
       "      <td>81</td>\n",
       "      <td>10.5</td>\n",
       "      <td>92.2</td>\n",
       "      <td>118</td>\n",
       "    </tr>\n",
       "  </tbody>\n",
       "</table>\n",
       "</div>"
      ],
      "text/plain": [
       "         Name Team Season  GP     TOI   W   L  OL  ROW  Points  Points%   GF  \\\n",
       "0  Blackhawks  CHI  12-13  48  2945.4  36   7   5   30      77     80.2  155   \n",
       "1   Lightning  T.B  18-19  82  4979.6  62  16   4   56     128     78.0  325   \n",
       "2    Penguins  PIT  12-13  48  2898.4  36  12   0   33      72     75.0  165   \n",
       "3    Capitals  WSH  15-16  82  4982.7  56  18   8   52     120     73.2  252   \n",
       "4    Capitals  WSH  16-17  82  4973.1  55  19   8   53     118     72.0  263   \n",
       "\n",
       "    GA   G±   Sh%   Sv%  pts/82  \n",
       "0  102   53  10.0  92.3     132  \n",
       "1  222  103  12.2  91.6     128  \n",
       "2  119   46  11.3  91.5     123  \n",
       "3  193   59   9.9  91.8     120  \n",
       "4  182   81  10.5  92.2     118  "
      ]
     },
     "execution_count": 23,
     "metadata": {},
     "output_type": "execute_result"
    }
   ],
   "source": [
    "#load in team standings data and adjust to add a column for pts/82, GF/G and GA/G\n",
    "team_standings_data = pd.read_csv(\"data/nhl_standings.csv\")\n",
    "\n",
    "#create a column for pts/82 games played to account for the lockout shortened 2012-13 season\n",
    "team_standings_data[\"pts/82\"] = np.where(\n",
    "    team_standings_data[\"GP\"] != 82,\n",
    "    ((team_standings_data[\"Points%\"]/100) * (82*2)).round().astype(int),\n",
    "    team_standings_data[\"Points\"]\n",
    ")\n",
    "team_standings_data.head()"
   ]
  },
  {
   "cell_type": "code",
   "execution_count": 24,
   "id": "1cabd637-0c0e-4f19-a494-e18f104fac80",
   "metadata": {},
   "outputs": [
    {
     "data": {
      "text/html": [
       "<div>\n",
       "<style scoped>\n",
       "    .dataframe tbody tr th:only-of-type {\n",
       "        vertical-align: middle;\n",
       "    }\n",
       "\n",
       "    .dataframe tbody tr th {\n",
       "        vertical-align: top;\n",
       "    }\n",
       "\n",
       "    .dataframe thead th {\n",
       "        text-align: right;\n",
       "    }\n",
       "</style>\n",
       "<table border=\"1\" class=\"dataframe\">\n",
       "  <thead>\n",
       "    <tr style=\"text-align: right;\">\n",
       "      <th></th>\n",
       "      <th>Team</th>\n",
       "      <th>W</th>\n",
       "      <th>pts/82</th>\n",
       "      <th>GF</th>\n",
       "      <th>GA</th>\n",
       "      <th>Sh%</th>\n",
       "      <th>Sv%</th>\n",
       "    </tr>\n",
       "  </thead>\n",
       "  <tbody>\n",
       "    <tr>\n",
       "      <th>4</th>\n",
       "      <td>BUF</td>\n",
       "      <td>30.3</td>\n",
       "      <td>74.4</td>\n",
       "      <td>192.6</td>\n",
       "      <td>237.1</td>\n",
       "      <td>8.1</td>\n",
       "      <td>91.0</td>\n",
       "    </tr>\n",
       "    <tr>\n",
       "      <th>12</th>\n",
       "      <td>EDM</td>\n",
       "      <td>30.9</td>\n",
       "      <td>74.7</td>\n",
       "      <td>205.2</td>\n",
       "      <td>243.2</td>\n",
       "      <td>9.0</td>\n",
       "      <td>90.3</td>\n",
       "    </tr>\n",
       "    <tr>\n",
       "      <th>2</th>\n",
       "      <td>ATL</td>\n",
       "      <td>34.0</td>\n",
       "      <td>80.0</td>\n",
       "      <td>223.0</td>\n",
       "      <td>269.0</td>\n",
       "      <td>8.4</td>\n",
       "      <td>90.1</td>\n",
       "    </tr>\n",
       "    <tr>\n",
       "      <th>1</th>\n",
       "      <td>ARI</td>\n",
       "      <td>33.3</td>\n",
       "      <td>81.3</td>\n",
       "      <td>198.3</td>\n",
       "      <td>227.6</td>\n",
       "      <td>8.4</td>\n",
       "      <td>91.1</td>\n",
       "    </tr>\n",
       "    <tr>\n",
       "      <th>9</th>\n",
       "      <td>COL</td>\n",
       "      <td>35.6</td>\n",
       "      <td>82.2</td>\n",
       "      <td>213.2</td>\n",
       "      <td>234.2</td>\n",
       "      <td>8.9</td>\n",
       "      <td>90.7</td>\n",
       "    </tr>\n",
       "  </tbody>\n",
       "</table>\n",
       "</div>"
      ],
      "text/plain": [
       "   Team     W  pts/82     GF     GA  Sh%   Sv%\n",
       "4   BUF  30.3    74.4  192.6  237.1  8.1  91.0\n",
       "12  EDM  30.9    74.7  205.2  243.2  9.0  90.3\n",
       "2   ATL  34.0    80.0  223.0  269.0  8.4  90.1\n",
       "1   ARI  33.3    81.3  198.3  227.6  8.4  91.1\n",
       "9   COL  35.6    82.2  213.2  234.2  8.9  90.7"
      ]
     },
     "execution_count": 24,
     "metadata": {},
     "output_type": "execute_result"
    }
   ],
   "source": [
    "#groupby team to find the team that averaged the most points over the decade, most goals and fewest goals against\n",
    "team_standings_avg = (\n",
    "    team_standings_data\n",
    "    .groupby([\"Team\"])\n",
    "    .agg({\n",
    "        \"W\":\"mean\",\n",
    "        \"pts/82\":\"mean\",\n",
    "        \"GF\":\"mean\",\n",
    "        \"GA\":\"mean\",\n",
    "        \"Sh%\":\"mean\",\n",
    "        \"Sv%\":\"mean\"\n",
    "    }\n",
    "    ).round(1).reset_index()\n",
    ")\n",
    "team_standings_avg = team_standings_avg.sort_values(by = \"pts/82\", ascending=[True])\n",
    "\n",
    "team_standings_avg.head(5)"
   ]
  },
  {
   "cell_type": "code",
   "execution_count": 25,
   "id": "d5994fe5-baea-4e77-8c70-a1772788b482",
   "metadata": {},
   "outputs": [],
   "source": [
    "#create a plot to display the teams with most pts/82 games played\n",
    "\n",
    "#load in logos\n",
    "logos = pd.read_csv(\"Logos/logos.csv\")\n",
    "\n",
    "#join data with team_standings\n",
    "team_standings_plot = pd.merge(team_standings_avg, logos, left_on=\"Team\", right_on=\"team\", how=\"inner\")\n",
    "\n",
    "team_standings_avg[\"logo\"] = 'Logos/' + team_standings_avg['Team'] + '.png'"
   ]
  },
  {
   "cell_type": "code",
   "execution_count": 30,
   "id": "4b92ccc5-70ec-461c-bad1-818432875d2a",
   "metadata": {},
   "outputs": [
    {
     "data": {
      "text/plain": [
       "<matplotlib.collections.PathCollection at 0x177cbc4d0>"
      ]
     },
     "execution_count": 30,
     "metadata": {},
     "output_type": "execute_result"
    },
    {
     "data": {
      "text/plain": [
       "<matplotlib.collections.PathCollection at 0x37f8ab740>"
      ]
     },
     "execution_count": 30,
     "metadata": {},
     "output_type": "execute_result"
    },
    {
     "data": {
      "text/plain": [
       "<matplotlib.offsetbox.AnnotationBbox at 0x173359970>"
      ]
     },
     "execution_count": 30,
     "metadata": {},
     "output_type": "execute_result"
    },
    {
     "data": {
      "text/plain": [
       "<matplotlib.offsetbox.AnnotationBbox at 0x37f9436b0>"
      ]
     },
     "execution_count": 30,
     "metadata": {},
     "output_type": "execute_result"
    },
    {
     "data": {
      "text/plain": [
       "<matplotlib.offsetbox.AnnotationBbox at 0x37bf05040>"
      ]
     },
     "execution_count": 30,
     "metadata": {},
     "output_type": "execute_result"
    },
    {
     "data": {
      "text/plain": [
       "<matplotlib.offsetbox.AnnotationBbox at 0x37f9d08f0>"
      ]
     },
     "execution_count": 30,
     "metadata": {},
     "output_type": "execute_result"
    },
    {
     "data": {
      "text/plain": [
       "<matplotlib.offsetbox.AnnotationBbox at 0x37f940ec0>"
      ]
     },
     "execution_count": 30,
     "metadata": {},
     "output_type": "execute_result"
    },
    {
     "data": {
      "text/plain": [
       "<matplotlib.offsetbox.AnnotationBbox at 0x173391370>"
      ]
     },
     "execution_count": 30,
     "metadata": {},
     "output_type": "execute_result"
    },
    {
     "data": {
      "text/plain": [
       "<matplotlib.offsetbox.AnnotationBbox at 0x37f941a30>"
      ]
     },
     "execution_count": 30,
     "metadata": {},
     "output_type": "execute_result"
    },
    {
     "data": {
      "text/plain": [
       "<matplotlib.offsetbox.AnnotationBbox at 0x173325bb0>"
      ]
     },
     "execution_count": 30,
     "metadata": {},
     "output_type": "execute_result"
    },
    {
     "data": {
      "text/plain": [
       "<matplotlib.offsetbox.AnnotationBbox at 0x1733920f0>"
      ]
     },
     "execution_count": 30,
     "metadata": {},
     "output_type": "execute_result"
    },
    {
     "data": {
      "text/plain": [
       "<matplotlib.offsetbox.AnnotationBbox at 0x177c93ef0>"
      ]
     },
     "execution_count": 30,
     "metadata": {},
     "output_type": "execute_result"
    },
    {
     "data": {
      "text/plain": [
       "<matplotlib.offsetbox.AnnotationBbox at 0x37f862a80>"
      ]
     },
     "execution_count": 30,
     "metadata": {},
     "output_type": "execute_result"
    },
    {
     "data": {
      "text/plain": [
       "<matplotlib.offsetbox.AnnotationBbox at 0x173391640>"
      ]
     },
     "execution_count": 30,
     "metadata": {},
     "output_type": "execute_result"
    },
    {
     "data": {
      "text/plain": [
       "<matplotlib.offsetbox.AnnotationBbox at 0x37bf99a00>"
      ]
     },
     "execution_count": 30,
     "metadata": {},
     "output_type": "execute_result"
    },
    {
     "data": {
      "text/plain": [
       "<matplotlib.offsetbox.AnnotationBbox at 0x37f9d36e0>"
      ]
     },
     "execution_count": 30,
     "metadata": {},
     "output_type": "execute_result"
    },
    {
     "data": {
      "text/plain": [
       "<matplotlib.offsetbox.AnnotationBbox at 0x37f9d3cb0>"
      ]
     },
     "execution_count": 30,
     "metadata": {},
     "output_type": "execute_result"
    },
    {
     "data": {
      "text/plain": [
       "<matplotlib.offsetbox.AnnotationBbox at 0x1733246e0>"
      ]
     },
     "execution_count": 30,
     "metadata": {},
     "output_type": "execute_result"
    },
    {
     "data": {
      "text/plain": [
       "<matplotlib.offsetbox.AnnotationBbox at 0x37ada2c90>"
      ]
     },
     "execution_count": 30,
     "metadata": {},
     "output_type": "execute_result"
    },
    {
     "data": {
      "text/plain": [
       "<matplotlib.offsetbox.AnnotationBbox at 0x37f8cfb90>"
      ]
     },
     "execution_count": 30,
     "metadata": {},
     "output_type": "execute_result"
    },
    {
     "data": {
      "text/plain": [
       "<matplotlib.offsetbox.AnnotationBbox at 0x173325580>"
      ]
     },
     "execution_count": 30,
     "metadata": {},
     "output_type": "execute_result"
    },
    {
     "data": {
      "text/plain": [
       "<matplotlib.offsetbox.AnnotationBbox at 0x37fa055b0>"
      ]
     },
     "execution_count": 30,
     "metadata": {},
     "output_type": "execute_result"
    },
    {
     "data": {
      "text/plain": [
       "<matplotlib.offsetbox.AnnotationBbox at 0x37f9a5a90>"
      ]
     },
     "execution_count": 30,
     "metadata": {},
     "output_type": "execute_result"
    },
    {
     "data": {
      "text/plain": [
       "<matplotlib.offsetbox.AnnotationBbox at 0x37f9d1910>"
      ]
     },
     "execution_count": 30,
     "metadata": {},
     "output_type": "execute_result"
    },
    {
     "data": {
      "text/plain": [
       "<matplotlib.offsetbox.AnnotationBbox at 0x37f88e4b0>"
      ]
     },
     "execution_count": 30,
     "metadata": {},
     "output_type": "execute_result"
    },
    {
     "data": {
      "text/plain": [
       "<matplotlib.offsetbox.AnnotationBbox at 0x37f876de0>"
      ]
     },
     "execution_count": 30,
     "metadata": {},
     "output_type": "execute_result"
    },
    {
     "data": {
      "text/plain": [
       "<matplotlib.offsetbox.AnnotationBbox at 0x37fa07290>"
      ]
     },
     "execution_count": 30,
     "metadata": {},
     "output_type": "execute_result"
    },
    {
     "data": {
      "text/plain": [
       "<matplotlib.offsetbox.AnnotationBbox at 0x37fa07170>"
      ]
     },
     "execution_count": 30,
     "metadata": {},
     "output_type": "execute_result"
    },
    {
     "data": {
      "text/plain": [
       "<matplotlib.offsetbox.AnnotationBbox at 0x37fa076e0>"
      ]
     },
     "execution_count": 30,
     "metadata": {},
     "output_type": "execute_result"
    },
    {
     "data": {
      "text/plain": [
       "<matplotlib.offsetbox.AnnotationBbox at 0x37f9a7bf0>"
      ]
     },
     "execution_count": 30,
     "metadata": {},
     "output_type": "execute_result"
    },
    {
     "data": {
      "text/plain": [
       "<matplotlib.offsetbox.AnnotationBbox at 0x37bfc0350>"
      ]
     },
     "execution_count": 30,
     "metadata": {},
     "output_type": "execute_result"
    },
    {
     "data": {
      "text/plain": [
       "<matplotlib.offsetbox.AnnotationBbox at 0x37fa38cb0>"
      ]
     },
     "execution_count": 30,
     "metadata": {},
     "output_type": "execute_result"
    },
    {
     "data": {
      "text/plain": [
       "<matplotlib.offsetbox.AnnotationBbox at 0x37f9d18b0>"
      ]
     },
     "execution_count": 30,
     "metadata": {},
     "output_type": "execute_result"
    },
    {
     "data": {
      "text/plain": [
       "<matplotlib.offsetbox.AnnotationBbox at 0x37fa39100>"
      ]
     },
     "execution_count": 30,
     "metadata": {},
     "output_type": "execute_result"
    },
    {
     "data": {
      "text/plain": [
       "Text(0.5, 1.0, 'Team Performance During the 2010s')"
      ]
     },
     "execution_count": 30,
     "metadata": {},
     "output_type": "execute_result"
    },
    {
     "data": {
      "text/plain": [
       "Text(0.5, 0, 'Average Goals For')"
      ]
     },
     "execution_count": 30,
     "metadata": {},
     "output_type": "execute_result"
    },
    {
     "data": {
      "text/plain": [
       "Text(0, 0.5, 'Avergae Goals Against')"
      ]
     },
     "execution_count": 30,
     "metadata": {},
     "output_type": "execute_result"
    },
    {
     "data": {
      "text/plain": [
       "<matplotlib.lines.Line2D at 0x37f9d2ff0>"
      ]
     },
     "execution_count": 30,
     "metadata": {},
     "output_type": "execute_result"
    },
    {
     "data": {
      "text/plain": [
       "<matplotlib.lines.Line2D at 0x37f874200>"
      ]
     },
     "execution_count": 30,
     "metadata": {},
     "output_type": "execute_result"
    },
    {
     "data": {
      "image/png": "[encoded data removed]",
      "text/plain": [
       "<Figure size 720x480 with 1 Axes>"
      ]
     },
     "metadata": {},
     "output_type": "display_data"
    },
    {
     "data": {
      "image/png": "[encoded data removed]",
      "text/plain": [
       "<Figure size 1800x1200 with 1 Axes>"
      ]
     },
     "metadata": {},
     "output_type": "display_data"
    }
   ],
   "source": [
    "fig, ax = plt.subplots(figsize=(6, 4), dpi=120)\n",
    "ax.scatter(team_standings_avg['GF'], team_standings_avg['GA'])\n",
    "def getImage(logo):\n",
    "    return OffsetImage(plt.imread(logo), zoom=.025, alpha = 1)\n",
    "\n",
    "fig, ax = plt.subplots(figsize=(6, 4), dpi=120)\n",
    "ax.scatter(team_standings_avg['GF'], team_standings_avg['GA'], color='white')\n",
    "\n",
    "for index, row in team_standings_avg.iterrows():\n",
    "    ab = AnnotationBbox(getImage(row['logo']), (row['GF'], row['GA']), frameon=False)\n",
    "    ax.add_artist(ab)\n",
    "\n",
    "plt.gcf().set_size_inches((15, 10)) \n",
    "plt.gca().invert_yaxis()\n",
    "plt.title(f\"Team Performance During the 2010s\")\n",
    "plt.xlabel('Average Goals For')\n",
    "plt.ylabel('Avergae Goals Against')\n",
    "#for i in range(new_df.shape[0]):\n",
    "          #plt.text(new_df.gsax[i], y=new_df.gsax_variance[i], s=new_df.name[i], alpha=0.8)\n",
    "plt.axvline(x=team_standings_avg['GF'].mean(), color='r', linestyle='--')\n",
    "plt.axhline(y=team_standings_avg['GA'].mean(), color='r', linestyle='--')\n",
    "#plt.savefig('goals_plot.png', dpi=1200, bbox_inches = \"tight\")"
   ]
  },
  {
   "cell_type": "code",
   "execution_count": 6,
   "id": "eb0b9c46-c2e5-40c8-9e2f-f26779522222",
   "metadata": {},
   "outputs": [
    {
     "data": {
      "text/plain": [
       "<Figure size 900x1000 with 0 Axes>"
      ]
     },
     "execution_count": 6,
     "metadata": {},
     "output_type": "execute_result"
    },
    {
     "data": {
      "text/plain": [
       "<BarContainer object of 32 artists>"
      ]
     },
     "execution_count": 6,
     "metadata": {},
     "output_type": "execute_result"
    },
    {
     "data": {
      "text/plain": [
       "Text(0.5, 0, 'Points per 82 GP')"
      ]
     },
     "execution_count": 6,
     "metadata": {},
     "output_type": "execute_result"
    },
    {
     "data": {
      "text/plain": [
       "Text(0, 0.5, 'Team')"
      ]
     },
     "execution_count": 6,
     "metadata": {},
     "output_type": "execute_result"
    },
    {
     "data": {
      "text/plain": [
       "Text(0.5, 1.0, 'Performance of Teams During the 2010s')"
      ]
     },
     "execution_count": 6,
     "metadata": {},
     "output_type": "execute_result"
    },
    {
     "data": {
      "image/png": "[encoded data removed]",
      "text/plain": [
       "<Figure size 900x1000 with 1 Axes>"
      ]
     },
     "metadata": {},
     "output_type": "display_data"
    }
   ],
   "source": [
    "#Create a bar plot using GSAx and Player data from Goalie dataframe.\n",
    "plt.figure(figsize=(9,10)) \n",
    "plt.barh(y=team_standings_avg['Team'], \n",
    "        width=team_standings_avg['pts/82'])\n",
    "plt.xlabel('Points per 82 GP')\n",
    "plt.ylabel('Team')\n",
    "plt.title('Performance of Teams During the 2010s')\n",
    "#plt.savefig(\"points_bar.png\", dpi=1200)\n",
    "plt.show()\n"
   ]
  },
  {
   "cell_type": "code",
   "execution_count": 7,
   "id": "8051ecce-6bba-49c1-95b6-8657f7bb7600",
   "metadata": {},
   "outputs": [
    {
     "data": {
      "text/html": [
       "<div>\n",
       "<style scoped>\n",
       "    .dataframe tbody tr th:only-of-type {\n",
       "        vertical-align: middle;\n",
       "    }\n",
       "\n",
       "    .dataframe tbody tr th {\n",
       "        vertical-align: top;\n",
       "    }\n",
       "\n",
       "    .dataframe thead th {\n",
       "        text-align: right;\n",
       "    }\n",
       "</style>\n",
       "<table border=\"1\" class=\"dataframe\">\n",
       "  <thead>\n",
       "    <tr style=\"text-align: right;\">\n",
       "      <th></th>\n",
       "      <th>Name</th>\n",
       "      <th>Team</th>\n",
       "      <th>Season</th>\n",
       "      <th>GP</th>\n",
       "      <th>TOI</th>\n",
       "      <th>GF%</th>\n",
       "      <th>SF%</th>\n",
       "      <th>FF%</th>\n",
       "      <th>CF%</th>\n",
       "      <th>xGF%</th>\n",
       "      <th>...</th>\n",
       "      <th>CA/60</th>\n",
       "      <th>xGF/60</th>\n",
       "      <th>xGA/60</th>\n",
       "      <th>G±/60</th>\n",
       "      <th>S±/60</th>\n",
       "      <th>F±/60</th>\n",
       "      <th>C±/60</th>\n",
       "      <th>xG±/60</th>\n",
       "      <th>Sh%</th>\n",
       "      <th>Sv%</th>\n",
       "    </tr>\n",
       "  </thead>\n",
       "  <tbody>\n",
       "    <tr>\n",
       "      <th>0</th>\n",
       "      <td>Ducks</td>\n",
       "      <td>ANA</td>\n",
       "      <td>10-11</td>\n",
       "      <td>82</td>\n",
       "      <td>3852.27</td>\n",
       "      <td>46.34</td>\n",
       "      <td>45.92</td>\n",
       "      <td>45.12</td>\n",
       "      <td>44.46</td>\n",
       "      <td>45.15</td>\n",
       "      <td>...</td>\n",
       "      <td>58.86</td>\n",
       "      <td>2.07</td>\n",
       "      <td>2.51</td>\n",
       "      <td>-0.33</td>\n",
       "      <td>-4.69</td>\n",
       "      <td>-7.93</td>\n",
       "      <td>-11.75</td>\n",
       "      <td>-0.44</td>\n",
       "      <td>7.85</td>\n",
       "      <td>92.28</td>\n",
       "    </tr>\n",
       "    <tr>\n",
       "      <th>1</th>\n",
       "      <td>Coyotes</td>\n",
       "      <td>ARI</td>\n",
       "      <td>10-11</td>\n",
       "      <td>82</td>\n",
       "      <td>3863.57</td>\n",
       "      <td>53.87</td>\n",
       "      <td>49.67</td>\n",
       "      <td>49.51</td>\n",
       "      <td>50.36</td>\n",
       "      <td>48.57</td>\n",
       "      <td>...</td>\n",
       "      <td>55.92</td>\n",
       "      <td>2.27</td>\n",
       "      <td>2.41</td>\n",
       "      <td>0.35</td>\n",
       "      <td>-0.40</td>\n",
       "      <td>-0.84</td>\n",
       "      <td>0.82</td>\n",
       "      <td>-0.13</td>\n",
       "      <td>8.02</td>\n",
       "      <td>93.23</td>\n",
       "    </tr>\n",
       "    <tr>\n",
       "      <th>2</th>\n",
       "      <td>Thrashers</td>\n",
       "      <td>ATL</td>\n",
       "      <td>10-11</td>\n",
       "      <td>82</td>\n",
       "      <td>3910.83</td>\n",
       "      <td>45.55</td>\n",
       "      <td>48.96</td>\n",
       "      <td>49.57</td>\n",
       "      <td>48.40</td>\n",
       "      <td>47.17</td>\n",
       "      <td>...</td>\n",
       "      <td>58.15</td>\n",
       "      <td>2.27</td>\n",
       "      <td>2.55</td>\n",
       "      <td>-0.41</td>\n",
       "      <td>-1.28</td>\n",
       "      <td>-0.71</td>\n",
       "      <td>-3.61</td>\n",
       "      <td>-0.27</td>\n",
       "      <td>7.04</td>\n",
       "      <td>91.93</td>\n",
       "    </tr>\n",
       "    <tr>\n",
       "      <th>3</th>\n",
       "      <td>Bruins</td>\n",
       "      <td>BOS</td>\n",
       "      <td>10-11</td>\n",
       "      <td>82</td>\n",
       "      <td>3935.40</td>\n",
       "      <td>59.07</td>\n",
       "      <td>50.69</td>\n",
       "      <td>50.73</td>\n",
       "      <td>51.42</td>\n",
       "      <td>50.33</td>\n",
       "      <td>...</td>\n",
       "      <td>56.74</td>\n",
       "      <td>2.34</td>\n",
       "      <td>2.31</td>\n",
       "      <td>0.83</td>\n",
       "      <td>0.88</td>\n",
       "      <td>1.26</td>\n",
       "      <td>3.31</td>\n",
       "      <td>0.03</td>\n",
       "      <td>8.27</td>\n",
       "      <td>94.11</td>\n",
       "    </tr>\n",
       "    <tr>\n",
       "      <th>4</th>\n",
       "      <td>Sabres</td>\n",
       "      <td>BUF</td>\n",
       "      <td>10-11</td>\n",
       "      <td>82</td>\n",
       "      <td>3853.65</td>\n",
       "      <td>53.03</td>\n",
       "      <td>52.07</td>\n",
       "      <td>50.79</td>\n",
       "      <td>50.50</td>\n",
       "      <td>50.66</td>\n",
       "      <td>...</td>\n",
       "      <td>55.07</td>\n",
       "      <td>2.30</td>\n",
       "      <td>2.24</td>\n",
       "      <td>0.29</td>\n",
       "      <td>2.56</td>\n",
       "      <td>1.33</td>\n",
       "      <td>1.11</td>\n",
       "      <td>0.06</td>\n",
       "      <td>7.81</td>\n",
       "      <td>92.48</td>\n",
       "    </tr>\n",
       "    <tr>\n",
       "      <th>...</th>\n",
       "      <td>...</td>\n",
       "      <td>...</td>\n",
       "      <td>...</td>\n",
       "      <td>...</td>\n",
       "      <td>...</td>\n",
       "      <td>...</td>\n",
       "      <td>...</td>\n",
       "      <td>...</td>\n",
       "      <td>...</td>\n",
       "      <td>...</td>\n",
       "      <td>...</td>\n",
       "      <td>...</td>\n",
       "      <td>...</td>\n",
       "      <td>...</td>\n",
       "      <td>...</td>\n",
       "      <td>...</td>\n",
       "      <td>...</td>\n",
       "      <td>...</td>\n",
       "      <td>...</td>\n",
       "      <td>...</td>\n",
       "      <td>...</td>\n",
       "    </tr>\n",
       "    <tr>\n",
       "      <th>267</th>\n",
       "      <td>Maple Leafs</td>\n",
       "      <td>TOR</td>\n",
       "      <td>18-19</td>\n",
       "      <td>82</td>\n",
       "      <td>4083.82</td>\n",
       "      <td>54.86</td>\n",
       "      <td>49.59</td>\n",
       "      <td>50.40</td>\n",
       "      <td>52.12</td>\n",
       "      <td>51.71</td>\n",
       "      <td>...</td>\n",
       "      <td>59.88</td>\n",
       "      <td>2.77</td>\n",
       "      <td>2.59</td>\n",
       "      <td>0.54</td>\n",
       "      <td>-0.54</td>\n",
       "      <td>0.74</td>\n",
       "      <td>5.31</td>\n",
       "      <td>0.18</td>\n",
       "      <td>9.40</td>\n",
       "      <td>92.39</td>\n",
       "    </tr>\n",
       "    <tr>\n",
       "      <th>268</th>\n",
       "      <td>Canucks</td>\n",
       "      <td>VAN</td>\n",
       "      <td>18-19</td>\n",
       "      <td>82</td>\n",
       "      <td>3955.63</td>\n",
       "      <td>45.02</td>\n",
       "      <td>46.79</td>\n",
       "      <td>47.56</td>\n",
       "      <td>47.34</td>\n",
       "      <td>45.81</td>\n",
       "      <td>...</td>\n",
       "      <td>59.37</td>\n",
       "      <td>2.13</td>\n",
       "      <td>2.52</td>\n",
       "      <td>-0.48</td>\n",
       "      <td>-3.87</td>\n",
       "      <td>-4.09</td>\n",
       "      <td>-6.01</td>\n",
       "      <td>-0.39</td>\n",
       "      <td>7.76</td>\n",
       "      <td>91.66</td>\n",
       "    </tr>\n",
       "    <tr>\n",
       "      <th>269</th>\n",
       "      <td>Golden Knights</td>\n",
       "      <td>VGK</td>\n",
       "      <td>18-19</td>\n",
       "      <td>82</td>\n",
       "      <td>4013.77</td>\n",
       "      <td>51.74</td>\n",
       "      <td>54.01</td>\n",
       "      <td>54.37</td>\n",
       "      <td>54.56</td>\n",
       "      <td>54.95</td>\n",
       "      <td>...</td>\n",
       "      <td>52.32</td>\n",
       "      <td>2.79</td>\n",
       "      <td>2.29</td>\n",
       "      <td>0.17</td>\n",
       "      <td>4.98</td>\n",
       "      <td>7.39</td>\n",
       "      <td>10.49</td>\n",
       "      <td>0.50</td>\n",
       "      <td>7.66</td>\n",
       "      <td>91.61</td>\n",
       "    </tr>\n",
       "    <tr>\n",
       "      <th>270</th>\n",
       "      <td>Jets</td>\n",
       "      <td>WPG</td>\n",
       "      <td>18-19</td>\n",
       "      <td>82</td>\n",
       "      <td>3955.85</td>\n",
       "      <td>50.84</td>\n",
       "      <td>48.82</td>\n",
       "      <td>49.16</td>\n",
       "      <td>49.42</td>\n",
       "      <td>47.78</td>\n",
       "      <td>...</td>\n",
       "      <td>57.86</td>\n",
       "      <td>2.29</td>\n",
       "      <td>2.51</td>\n",
       "      <td>0.08</td>\n",
       "      <td>-1.47</td>\n",
       "      <td>-1.44</td>\n",
       "      <td>-1.33</td>\n",
       "      <td>-0.21</td>\n",
       "      <td>8.34</td>\n",
       "      <td>92.31</td>\n",
       "    </tr>\n",
       "    <tr>\n",
       "      <th>271</th>\n",
       "      <td>Capitals</td>\n",
       "      <td>WSH</td>\n",
       "      <td>18-19</td>\n",
       "      <td>82</td>\n",
       "      <td>3935.85</td>\n",
       "      <td>55.39</td>\n",
       "      <td>49.56</td>\n",
       "      <td>49.57</td>\n",
       "      <td>49.79</td>\n",
       "      <td>47.46</td>\n",
       "      <td>...</td>\n",
       "      <td>58.04</td>\n",
       "      <td>2.41</td>\n",
       "      <td>2.67</td>\n",
       "      <td>0.58</td>\n",
       "      <td>-0.54</td>\n",
       "      <td>-0.73</td>\n",
       "      <td>-0.48</td>\n",
       "      <td>-0.26</td>\n",
       "      <td>9.97</td>\n",
       "      <td>92.11</td>\n",
       "    </tr>\n",
       "  </tbody>\n",
       "</table>\n",
       "<p>272 rows × 27 columns</p>\n",
       "</div>"
      ],
      "text/plain": [
       "               Name Team Season  GP      TOI    GF%    SF%    FF%    CF%  \\\n",
       "0             Ducks  ANA  10-11  82  3852.27  46.34  45.92  45.12  44.46   \n",
       "1           Coyotes  ARI  10-11  82  3863.57  53.87  49.67  49.51  50.36   \n",
       "2         Thrashers  ATL  10-11  82  3910.83  45.55  48.96  49.57  48.40   \n",
       "3            Bruins  BOS  10-11  82  3935.40  59.07  50.69  50.73  51.42   \n",
       "4            Sabres  BUF  10-11  82  3853.65  53.03  52.07  50.79  50.50   \n",
       "..              ...  ...    ...  ..      ...    ...    ...    ...    ...   \n",
       "267     Maple Leafs  TOR  18-19  82  4083.82  54.86  49.59  50.40  52.12   \n",
       "268         Canucks  VAN  18-19  82  3955.63  45.02  46.79  47.56  47.34   \n",
       "269  Golden Knights  VGK  18-19  82  4013.77  51.74  54.01  54.37  54.56   \n",
       "270            Jets  WPG  18-19  82  3955.85  50.84  48.82  49.16  49.42   \n",
       "271        Capitals  WSH  18-19  82  3935.85  55.39  49.56  49.57  49.79   \n",
       "\n",
       "      xGF%  ...  CA/60  xGF/60  xGA/60  G±/60  S±/60  F±/60  C±/60  xG±/60  \\\n",
       "0    45.15  ...  58.86    2.07    2.51  -0.33  -4.69  -7.93 -11.75   -0.44   \n",
       "1    48.57  ...  55.92    2.27    2.41   0.35  -0.40  -0.84   0.82   -0.13   \n",
       "2    47.17  ...  58.15    2.27    2.55  -0.41  -1.28  -0.71  -3.61   -0.27   \n",
       "3    50.33  ...  56.74    2.34    2.31   0.83   0.88   1.26   3.31    0.03   \n",
       "4    50.66  ...  55.07    2.30    2.24   0.29   2.56   1.33   1.11    0.06   \n",
       "..     ...  ...    ...     ...     ...    ...    ...    ...    ...     ...   \n",
       "267  51.71  ...  59.88    2.77    2.59   0.54  -0.54   0.74   5.31    0.18   \n",
       "268  45.81  ...  59.37    2.13    2.52  -0.48  -3.87  -4.09  -6.01   -0.39   \n",
       "269  54.95  ...  52.32    2.79    2.29   0.17   4.98   7.39  10.49    0.50   \n",
       "270  47.78  ...  57.86    2.29    2.51   0.08  -1.47  -1.44  -1.33   -0.21   \n",
       "271  47.46  ...  58.04    2.41    2.67   0.58  -0.54  -0.73  -0.48   -0.26   \n",
       "\n",
       "      Sh%    Sv%  \n",
       "0    7.85  92.28  \n",
       "1    8.02  93.23  \n",
       "2    7.04  91.93  \n",
       "3    8.27  94.11  \n",
       "4    7.81  92.48  \n",
       "..    ...    ...  \n",
       "267  9.40  92.39  \n",
       "268  7.76  91.66  \n",
       "269  7.66  91.61  \n",
       "270  8.34  92.31  \n",
       "271  9.97  92.11  \n",
       "\n",
       "[272 rows x 27 columns]"
      ]
     },
     "execution_count": 7,
     "metadata": {},
     "output_type": "execute_result"
    }
   ],
   "source": [
    "#load in team underlying stats\n",
    "team_stats_data = pd.read_csv(\"data/nhl_team_stats.csv\")\n",
    "team_stats_data"
   ]
  },
  {
   "cell_type": "code",
   "execution_count": 8,
   "id": "e3f1e961-5546-4cf5-9390-10d77a9e8c45",
   "metadata": {},
   "outputs": [
    {
     "data": {
      "text/html": [
       "<div>\n",
       "<style scoped>\n",
       "    .dataframe tbody tr th:only-of-type {\n",
       "        vertical-align: middle;\n",
       "    }\n",
       "\n",
       "    .dataframe tbody tr th {\n",
       "        vertical-align: top;\n",
       "    }\n",
       "\n",
       "    .dataframe thead th {\n",
       "        text-align: right;\n",
       "    }\n",
       "</style>\n",
       "<table border=\"1\" class=\"dataframe\">\n",
       "  <thead>\n",
       "    <tr style=\"text-align: right;\">\n",
       "      <th></th>\n",
       "      <th>Team</th>\n",
       "      <th>xGF/60</th>\n",
       "      <th>xGA/60</th>\n",
       "      <th>CF/60</th>\n",
       "      <th>CA/60</th>\n",
       "      <th>Sh%</th>\n",
       "      <th>Sv%</th>\n",
       "    </tr>\n",
       "  </thead>\n",
       "  <tbody>\n",
       "    <tr>\n",
       "      <th>0</th>\n",
       "      <td>ANA</td>\n",
       "      <td>2.29</td>\n",
       "      <td>2.33</td>\n",
       "      <td>53.54</td>\n",
       "      <td>55.57</td>\n",
       "      <td>8.02</td>\n",
       "      <td>92.51</td>\n",
       "    </tr>\n",
       "    <tr>\n",
       "      <th>1</th>\n",
       "      <td>ARI</td>\n",
       "      <td>2.14</td>\n",
       "      <td>2.41</td>\n",
       "      <td>54.75</td>\n",
       "      <td>58.30</td>\n",
       "      <td>7.28</td>\n",
       "      <td>92.66</td>\n",
       "    </tr>\n",
       "    <tr>\n",
       "      <th>2</th>\n",
       "      <td>ATL</td>\n",
       "      <td>2.27</td>\n",
       "      <td>2.55</td>\n",
       "      <td>54.54</td>\n",
       "      <td>58.15</td>\n",
       "      <td>7.04</td>\n",
       "      <td>91.93</td>\n",
       "    </tr>\n",
       "    <tr>\n",
       "      <th>3</th>\n",
       "      <td>BOS</td>\n",
       "      <td>2.32</td>\n",
       "      <td>2.07</td>\n",
       "      <td>59.32</td>\n",
       "      <td>51.65</td>\n",
       "      <td>7.71</td>\n",
       "      <td>92.84</td>\n",
       "    </tr>\n",
       "    <tr>\n",
       "      <th>4</th>\n",
       "      <td>BUF</td>\n",
       "      <td>1.99</td>\n",
       "      <td>2.36</td>\n",
       "      <td>49.60</td>\n",
       "      <td>58.80</td>\n",
       "      <td>7.08</td>\n",
       "      <td>92.42</td>\n",
       "    </tr>\n",
       "    <tr>\n",
       "      <th>5</th>\n",
       "      <td>CAR</td>\n",
       "      <td>2.51</td>\n",
       "      <td>2.51</td>\n",
       "      <td>58.50</td>\n",
       "      <td>55.66</td>\n",
       "      <td>7.11</td>\n",
       "      <td>91.70</td>\n",
       "    </tr>\n",
       "    <tr>\n",
       "      <th>6</th>\n",
       "      <td>CBJ</td>\n",
       "      <td>2.25</td>\n",
       "      <td>2.25</td>\n",
       "      <td>52.84</td>\n",
       "      <td>54.55</td>\n",
       "      <td>7.96</td>\n",
       "      <td>92.25</td>\n",
       "    </tr>\n",
       "    <tr>\n",
       "      <th>7</th>\n",
       "      <td>CGY</td>\n",
       "      <td>2.24</td>\n",
       "      <td>2.26</td>\n",
       "      <td>54.03</td>\n",
       "      <td>56.04</td>\n",
       "      <td>8.02</td>\n",
       "      <td>91.50</td>\n",
       "    </tr>\n",
       "    <tr>\n",
       "      <th>8</th>\n",
       "      <td>CHI</td>\n",
       "      <td>2.37</td>\n",
       "      <td>2.29</td>\n",
       "      <td>58.04</td>\n",
       "      <td>51.94</td>\n",
       "      <td>7.85</td>\n",
       "      <td>92.30</td>\n",
       "    </tr>\n",
       "    <tr>\n",
       "      <th>9</th>\n",
       "      <td>COL</td>\n",
       "      <td>2.07</td>\n",
       "      <td>2.35</td>\n",
       "      <td>52.23</td>\n",
       "      <td>58.85</td>\n",
       "      <td>7.69</td>\n",
       "      <td>92.25</td>\n",
       "    </tr>\n",
       "    <tr>\n",
       "      <th>10</th>\n",
       "      <td>DAL</td>\n",
       "      <td>2.34</td>\n",
       "      <td>2.33</td>\n",
       "      <td>56.51</td>\n",
       "      <td>56.23</td>\n",
       "      <td>8.09</td>\n",
       "      <td>92.16</td>\n",
       "    </tr>\n",
       "    <tr>\n",
       "      <th>11</th>\n",
       "      <td>DET</td>\n",
       "      <td>2.23</td>\n",
       "      <td>2.23</td>\n",
       "      <td>53.83</td>\n",
       "      <td>51.10</td>\n",
       "      <td>7.65</td>\n",
       "      <td>92.32</td>\n",
       "    </tr>\n",
       "    <tr>\n",
       "      <th>12</th>\n",
       "      <td>EDM</td>\n",
       "      <td>2.27</td>\n",
       "      <td>2.59</td>\n",
       "      <td>51.89</td>\n",
       "      <td>58.50</td>\n",
       "      <td>7.71</td>\n",
       "      <td>91.72</td>\n",
       "    </tr>\n",
       "    <tr>\n",
       "      <th>13</th>\n",
       "      <td>FLA</td>\n",
       "      <td>2.16</td>\n",
       "      <td>2.28</td>\n",
       "      <td>53.19</td>\n",
       "      <td>54.36</td>\n",
       "      <td>7.23</td>\n",
       "      <td>91.92</td>\n",
       "    </tr>\n",
       "    <tr>\n",
       "      <th>14</th>\n",
       "      <td>L.A</td>\n",
       "      <td>2.32</td>\n",
       "      <td>2.10</td>\n",
       "      <td>58.39</td>\n",
       "      <td>50.01</td>\n",
       "      <td>7.14</td>\n",
       "      <td>92.53</td>\n",
       "    </tr>\n",
       "    <tr>\n",
       "      <th>15</th>\n",
       "      <td>MIN</td>\n",
       "      <td>2.11</td>\n",
       "      <td>1.98</td>\n",
       "      <td>51.30</td>\n",
       "      <td>54.95</td>\n",
       "      <td>7.75</td>\n",
       "      <td>92.39</td>\n",
       "    </tr>\n",
       "    <tr>\n",
       "      <th>16</th>\n",
       "      <td>MTL</td>\n",
       "      <td>2.31</td>\n",
       "      <td>2.23</td>\n",
       "      <td>57.62</td>\n",
       "      <td>55.77</td>\n",
       "      <td>7.61</td>\n",
       "      <td>92.58</td>\n",
       "    </tr>\n",
       "    <tr>\n",
       "      <th>17</th>\n",
       "      <td>N.J</td>\n",
       "      <td>2.11</td>\n",
       "      <td>2.06</td>\n",
       "      <td>48.40</td>\n",
       "      <td>49.22</td>\n",
       "      <td>7.13</td>\n",
       "      <td>91.92</td>\n",
       "    </tr>\n",
       "    <tr>\n",
       "      <th>18</th>\n",
       "      <td>NSH</td>\n",
       "      <td>2.23</td>\n",
       "      <td>2.10</td>\n",
       "      <td>54.61</td>\n",
       "      <td>53.66</td>\n",
       "      <td>7.88</td>\n",
       "      <td>92.59</td>\n",
       "    </tr>\n",
       "    <tr>\n",
       "      <th>19</th>\n",
       "      <td>NYI</td>\n",
       "      <td>2.50</td>\n",
       "      <td>2.54</td>\n",
       "      <td>55.06</td>\n",
       "      <td>58.04</td>\n",
       "      <td>7.98</td>\n",
       "      <td>91.73</td>\n",
       "    </tr>\n",
       "    <tr>\n",
       "      <th>20</th>\n",
       "      <td>NYR</td>\n",
       "      <td>2.51</td>\n",
       "      <td>2.50</td>\n",
       "      <td>53.70</td>\n",
       "      <td>56.57</td>\n",
       "      <td>8.02</td>\n",
       "      <td>92.77</td>\n",
       "    </tr>\n",
       "    <tr>\n",
       "      <th>21</th>\n",
       "      <td>OTT</td>\n",
       "      <td>2.25</td>\n",
       "      <td>2.38</td>\n",
       "      <td>55.99</td>\n",
       "      <td>57.80</td>\n",
       "      <td>7.55</td>\n",
       "      <td>92.13</td>\n",
       "    </tr>\n",
       "    <tr>\n",
       "      <th>22</th>\n",
       "      <td>PHI</td>\n",
       "      <td>2.29</td>\n",
       "      <td>2.33</td>\n",
       "      <td>55.79</td>\n",
       "      <td>56.70</td>\n",
       "      <td>7.83</td>\n",
       "      <td>92.16</td>\n",
       "    </tr>\n",
       "    <tr>\n",
       "      <th>23</th>\n",
       "      <td>PIT</td>\n",
       "      <td>2.44</td>\n",
       "      <td>2.19</td>\n",
       "      <td>57.81</td>\n",
       "      <td>53.40</td>\n",
       "      <td>8.08</td>\n",
       "      <td>92.31</td>\n",
       "    </tr>\n",
       "    <tr>\n",
       "      <th>24</th>\n",
       "      <td>S.J</td>\n",
       "      <td>2.52</td>\n",
       "      <td>2.14</td>\n",
       "      <td>60.06</td>\n",
       "      <td>53.94</td>\n",
       "      <td>7.42</td>\n",
       "      <td>92.10</td>\n",
       "    </tr>\n",
       "    <tr>\n",
       "      <th>25</th>\n",
       "      <td>STL</td>\n",
       "      <td>2.28</td>\n",
       "      <td>2.04</td>\n",
       "      <td>55.62</td>\n",
       "      <td>50.48</td>\n",
       "      <td>7.79</td>\n",
       "      <td>92.36</td>\n",
       "    </tr>\n",
       "    <tr>\n",
       "      <th>26</th>\n",
       "      <td>T.B</td>\n",
       "      <td>2.28</td>\n",
       "      <td>2.11</td>\n",
       "      <td>55.64</td>\n",
       "      <td>53.36</td>\n",
       "      <td>8.69</td>\n",
       "      <td>92.04</td>\n",
       "    </tr>\n",
       "    <tr>\n",
       "      <th>27</th>\n",
       "      <td>TOR</td>\n",
       "      <td>2.30</td>\n",
       "      <td>2.50</td>\n",
       "      <td>56.05</td>\n",
       "      <td>60.60</td>\n",
       "      <td>8.51</td>\n",
       "      <td>92.19</td>\n",
       "    </tr>\n",
       "    <tr>\n",
       "      <th>28</th>\n",
       "      <td>VAN</td>\n",
       "      <td>2.14</td>\n",
       "      <td>2.37</td>\n",
       "      <td>53.84</td>\n",
       "      <td>54.45</td>\n",
       "      <td>7.56</td>\n",
       "      <td>92.41</td>\n",
       "    </tr>\n",
       "    <tr>\n",
       "      <th>29</th>\n",
       "      <td>VGK</td>\n",
       "      <td>2.58</td>\n",
       "      <td>2.30</td>\n",
       "      <td>60.96</td>\n",
       "      <td>53.92</td>\n",
       "      <td>7.95</td>\n",
       "      <td>91.88</td>\n",
       "    </tr>\n",
       "    <tr>\n",
       "      <th>30</th>\n",
       "      <td>WPG</td>\n",
       "      <td>2.40</td>\n",
       "      <td>2.34</td>\n",
       "      <td>55.98</td>\n",
       "      <td>54.65</td>\n",
       "      <td>8.06</td>\n",
       "      <td>92.00</td>\n",
       "    </tr>\n",
       "    <tr>\n",
       "      <th>31</th>\n",
       "      <td>WSH</td>\n",
       "      <td>2.25</td>\n",
       "      <td>2.27</td>\n",
       "      <td>55.38</td>\n",
       "      <td>55.18</td>\n",
       "      <td>8.46</td>\n",
       "      <td>92.67</td>\n",
       "    </tr>\n",
       "  </tbody>\n",
       "</table>\n",
       "</div>"
      ],
      "text/plain": [
       "   Team  xGF/60  xGA/60  CF/60  CA/60   Sh%    Sv%\n",
       "0   ANA    2.29    2.33  53.54  55.57  8.02  92.51\n",
       "1   ARI    2.14    2.41  54.75  58.30  7.28  92.66\n",
       "2   ATL    2.27    2.55  54.54  58.15  7.04  91.93\n",
       "3   BOS    2.32    2.07  59.32  51.65  7.71  92.84\n",
       "4   BUF    1.99    2.36  49.60  58.80  7.08  92.42\n",
       "5   CAR    2.51    2.51  58.50  55.66  7.11  91.70\n",
       "6   CBJ    2.25    2.25  52.84  54.55  7.96  92.25\n",
       "7   CGY    2.24    2.26  54.03  56.04  8.02  91.50\n",
       "8   CHI    2.37    2.29  58.04  51.94  7.85  92.30\n",
       "9   COL    2.07    2.35  52.23  58.85  7.69  92.25\n",
       "10  DAL    2.34    2.33  56.51  56.23  8.09  92.16\n",
       "11  DET    2.23    2.23  53.83  51.10  7.65  92.32\n",
       "12  EDM    2.27    2.59  51.89  58.50  7.71  91.72\n",
       "13  FLA    2.16    2.28  53.19  54.36  7.23  91.92\n",
       "14  L.A    2.32    2.10  58.39  50.01  7.14  92.53\n",
       "15  MIN    2.11    1.98  51.30  54.95  7.75  92.39\n",
       "16  MTL    2.31    2.23  57.62  55.77  7.61  92.58\n",
       "17  N.J    2.11    2.06  48.40  49.22  7.13  91.92\n",
       "18  NSH    2.23    2.10  54.61  53.66  7.88  92.59\n",
       "19  NYI    2.50    2.54  55.06  58.04  7.98  91.73\n",
       "20  NYR    2.51    2.50  53.70  56.57  8.02  92.77\n",
       "21  OTT    2.25    2.38  55.99  57.80  7.55  92.13\n",
       "22  PHI    2.29    2.33  55.79  56.70  7.83  92.16\n",
       "23  PIT    2.44    2.19  57.81  53.40  8.08  92.31\n",
       "24  S.J    2.52    2.14  60.06  53.94  7.42  92.10\n",
       "25  STL    2.28    2.04  55.62  50.48  7.79  92.36\n",
       "26  T.B    2.28    2.11  55.64  53.36  8.69  92.04\n",
       "27  TOR    2.30    2.50  56.05  60.60  8.51  92.19\n",
       "28  VAN    2.14    2.37  53.84  54.45  7.56  92.41\n",
       "29  VGK    2.58    2.30  60.96  53.92  7.95  91.88\n",
       "30  WPG    2.40    2.34  55.98  54.65  8.06  92.00\n",
       "31  WSH    2.25    2.27  55.38  55.18  8.46  92.67"
      ]
     },
     "execution_count": 8,
     "metadata": {},
     "output_type": "execute_result"
    }
   ],
   "source": [
    "#groupby team to find the team that averaged the most points over the decade, most goals and fewest goals against\n",
    "team_stats_avg = (\n",
    "    team_stats_data\n",
    "    .groupby([\"Team\"])\n",
    "    .agg({\n",
    "        \"xGF/60\":\"mean\",\n",
    "        \"xGA/60\":\"mean\",\n",
    "        \"CF/60\":\"mean\",\n",
    "        \"CA/60\":\"mean\"\n",
    "    }\n",
    "    ).round(2).reset_index()\n",
    ")\n",
    "#team_stats_avg = team_standings_avg.sort_values(by = \"pts/82\", ascending=[False])\n",
    "\n",
    "team_stats_avg"
   ]
  },
  {
   "cell_type": "code",
   "execution_count": 9,
   "id": "f4d360ab-e576-42e3-843e-343918079c89",
   "metadata": {},
   "outputs": [
    {
     "data": {
      "text/html": [
       "<div>\n",
       "<style scoped>\n",
       "    .dataframe tbody tr th:only-of-type {\n",
       "        vertical-align: middle;\n",
       "    }\n",
       "\n",
       "    .dataframe tbody tr th {\n",
       "        vertical-align: top;\n",
       "    }\n",
       "\n",
       "    .dataframe thead th {\n",
       "        text-align: right;\n",
       "    }\n",
       "</style>\n",
       "<table border=\"1\" class=\"dataframe\">\n",
       "  <thead>\n",
       "    <tr style=\"text-align: right;\">\n",
       "      <th></th>\n",
       "      <th>Team</th>\n",
       "      <th>xGF/60</th>\n",
       "      <th>xGA/60</th>\n",
       "      <th>CF/60</th>\n",
       "      <th>CA/60</th>\n",
       "      <th>Sh%</th>\n",
       "      <th>Sv%</th>\n",
       "      <th>logo</th>\n",
       "    </tr>\n",
       "  </thead>\n",
       "  <tbody>\n",
       "    <tr>\n",
       "      <th>0</th>\n",
       "      <td>ANA</td>\n",
       "      <td>2.29</td>\n",
       "      <td>2.33</td>\n",
       "      <td>53.54</td>\n",
       "      <td>55.57</td>\n",
       "      <td>8.02</td>\n",
       "      <td>92.51</td>\n",
       "      <td>Logos/ANA.png</td>\n",
       "    </tr>\n",
       "    <tr>\n",
       "      <th>1</th>\n",
       "      <td>ARI</td>\n",
       "      <td>2.14</td>\n",
       "      <td>2.41</td>\n",
       "      <td>54.75</td>\n",
       "      <td>58.30</td>\n",
       "      <td>7.28</td>\n",
       "      <td>92.66</td>\n",
       "      <td>Logos/ARI.png</td>\n",
       "    </tr>\n",
       "    <tr>\n",
       "      <th>2</th>\n",
       "      <td>ATL</td>\n",
       "      <td>2.27</td>\n",
       "      <td>2.55</td>\n",
       "      <td>54.54</td>\n",
       "      <td>58.15</td>\n",
       "      <td>7.04</td>\n",
       "      <td>91.93</td>\n",
       "      <td>Logos/ATL.png</td>\n",
       "    </tr>\n",
       "    <tr>\n",
       "      <th>3</th>\n",
       "      <td>BOS</td>\n",
       "      <td>2.32</td>\n",
       "      <td>2.07</td>\n",
       "      <td>59.32</td>\n",
       "      <td>51.65</td>\n",
       "      <td>7.71</td>\n",
       "      <td>92.84</td>\n",
       "      <td>Logos/BOS.png</td>\n",
       "    </tr>\n",
       "    <tr>\n",
       "      <th>4</th>\n",
       "      <td>BUF</td>\n",
       "      <td>1.99</td>\n",
       "      <td>2.36</td>\n",
       "      <td>49.60</td>\n",
       "      <td>58.80</td>\n",
       "      <td>7.08</td>\n",
       "      <td>92.42</td>\n",
       "      <td>Logos/BUF.png</td>\n",
       "    </tr>\n",
       "    <tr>\n",
       "      <th>5</th>\n",
       "      <td>CAR</td>\n",
       "      <td>2.51</td>\n",
       "      <td>2.51</td>\n",
       "      <td>58.50</td>\n",
       "      <td>55.66</td>\n",
       "      <td>7.11</td>\n",
       "      <td>91.70</td>\n",
       "      <td>Logos/CAR.png</td>\n",
       "    </tr>\n",
       "    <tr>\n",
       "      <th>6</th>\n",
       "      <td>CBJ</td>\n",
       "      <td>2.25</td>\n",
       "      <td>2.25</td>\n",
       "      <td>52.84</td>\n",
       "      <td>54.55</td>\n",
       "      <td>7.96</td>\n",
       "      <td>92.25</td>\n",
       "      <td>Logos/CBJ.png</td>\n",
       "    </tr>\n",
       "    <tr>\n",
       "      <th>7</th>\n",
       "      <td>CGY</td>\n",
       "      <td>2.24</td>\n",
       "      <td>2.26</td>\n",
       "      <td>54.03</td>\n",
       "      <td>56.04</td>\n",
       "      <td>8.02</td>\n",
       "      <td>91.50</td>\n",
       "      <td>Logos/CGY.png</td>\n",
       "    </tr>\n",
       "    <tr>\n",
       "      <th>8</th>\n",
       "      <td>CHI</td>\n",
       "      <td>2.37</td>\n",
       "      <td>2.29</td>\n",
       "      <td>58.04</td>\n",
       "      <td>51.94</td>\n",
       "      <td>7.85</td>\n",
       "      <td>92.30</td>\n",
       "      <td>Logos/CHI.png</td>\n",
       "    </tr>\n",
       "    <tr>\n",
       "      <th>9</th>\n",
       "      <td>COL</td>\n",
       "      <td>2.07</td>\n",
       "      <td>2.35</td>\n",
       "      <td>52.23</td>\n",
       "      <td>58.85</td>\n",
       "      <td>7.69</td>\n",
       "      <td>92.25</td>\n",
       "      <td>Logos/COL.png</td>\n",
       "    </tr>\n",
       "    <tr>\n",
       "      <th>10</th>\n",
       "      <td>DAL</td>\n",
       "      <td>2.34</td>\n",
       "      <td>2.33</td>\n",
       "      <td>56.51</td>\n",
       "      <td>56.23</td>\n",
       "      <td>8.09</td>\n",
       "      <td>92.16</td>\n",
       "      <td>Logos/DAL.png</td>\n",
       "    </tr>\n",
       "    <tr>\n",
       "      <th>11</th>\n",
       "      <td>DET</td>\n",
       "      <td>2.23</td>\n",
       "      <td>2.23</td>\n",
       "      <td>53.83</td>\n",
       "      <td>51.10</td>\n",
       "      <td>7.65</td>\n",
       "      <td>92.32</td>\n",
       "      <td>Logos/DET.png</td>\n",
       "    </tr>\n",
       "    <tr>\n",
       "      <th>12</th>\n",
       "      <td>EDM</td>\n",
       "      <td>2.27</td>\n",
       "      <td>2.59</td>\n",
       "      <td>51.89</td>\n",
       "      <td>58.50</td>\n",
       "      <td>7.71</td>\n",
       "      <td>91.72</td>\n",
       "      <td>Logos/EDM.png</td>\n",
       "    </tr>\n",
       "    <tr>\n",
       "      <th>13</th>\n",
       "      <td>FLA</td>\n",
       "      <td>2.16</td>\n",
       "      <td>2.28</td>\n",
       "      <td>53.19</td>\n",
       "      <td>54.36</td>\n",
       "      <td>7.23</td>\n",
       "      <td>91.92</td>\n",
       "      <td>Logos/FLA.png</td>\n",
       "    </tr>\n",
       "    <tr>\n",
       "      <th>14</th>\n",
       "      <td>L.A</td>\n",
       "      <td>2.32</td>\n",
       "      <td>2.10</td>\n",
       "      <td>58.39</td>\n",
       "      <td>50.01</td>\n",
       "      <td>7.14</td>\n",
       "      <td>92.53</td>\n",
       "      <td>Logos/L.A.png</td>\n",
       "    </tr>\n",
       "    <tr>\n",
       "      <th>15</th>\n",
       "      <td>MIN</td>\n",
       "      <td>2.11</td>\n",
       "      <td>1.98</td>\n",
       "      <td>51.30</td>\n",
       "      <td>54.95</td>\n",
       "      <td>7.75</td>\n",
       "      <td>92.39</td>\n",
       "      <td>Logos/MIN.png</td>\n",
       "    </tr>\n",
       "    <tr>\n",
       "      <th>16</th>\n",
       "      <td>MTL</td>\n",
       "      <td>2.31</td>\n",
       "      <td>2.23</td>\n",
       "      <td>57.62</td>\n",
       "      <td>55.77</td>\n",
       "      <td>7.61</td>\n",
       "      <td>92.58</td>\n",
       "      <td>Logos/MTL.png</td>\n",
       "    </tr>\n",
       "    <tr>\n",
       "      <th>17</th>\n",
       "      <td>N.J</td>\n",
       "      <td>2.11</td>\n",
       "      <td>2.06</td>\n",
       "      <td>48.40</td>\n",
       "      <td>49.22</td>\n",
       "      <td>7.13</td>\n",
       "      <td>91.92</td>\n",
       "      <td>Logos/N.J.png</td>\n",
       "    </tr>\n",
       "    <tr>\n",
       "      <th>18</th>\n",
       "      <td>NSH</td>\n",
       "      <td>2.23</td>\n",
       "      <td>2.10</td>\n",
       "      <td>54.61</td>\n",
       "      <td>53.66</td>\n",
       "      <td>7.88</td>\n",
       "      <td>92.59</td>\n",
       "      <td>Logos/NSH.png</td>\n",
       "    </tr>\n",
       "    <tr>\n",
       "      <th>19</th>\n",
       "      <td>NYI</td>\n",
       "      <td>2.50</td>\n",
       "      <td>2.54</td>\n",
       "      <td>55.06</td>\n",
       "      <td>58.04</td>\n",
       "      <td>7.98</td>\n",
       "      <td>91.73</td>\n",
       "      <td>Logos/NYI.png</td>\n",
       "    </tr>\n",
       "    <tr>\n",
       "      <th>20</th>\n",
       "      <td>NYR</td>\n",
       "      <td>2.51</td>\n",
       "      <td>2.50</td>\n",
       "      <td>53.70</td>\n",
       "      <td>56.57</td>\n",
       "      <td>8.02</td>\n",
       "      <td>92.77</td>\n",
       "      <td>Logos/NYR.png</td>\n",
       "    </tr>\n",
       "    <tr>\n",
       "      <th>21</th>\n",
       "      <td>OTT</td>\n",
       "      <td>2.25</td>\n",
       "      <td>2.38</td>\n",
       "      <td>55.99</td>\n",
       "      <td>57.80</td>\n",
       "      <td>7.55</td>\n",
       "      <td>92.13</td>\n",
       "      <td>Logos/OTT.png</td>\n",
       "    </tr>\n",
       "    <tr>\n",
       "      <th>22</th>\n",
       "      <td>PHI</td>\n",
       "      <td>2.29</td>\n",
       "      <td>2.33</td>\n",
       "      <td>55.79</td>\n",
       "      <td>56.70</td>\n",
       "      <td>7.83</td>\n",
       "      <td>92.16</td>\n",
       "      <td>Logos/PHI.png</td>\n",
       "    </tr>\n",
       "    <tr>\n",
       "      <th>23</th>\n",
       "      <td>PIT</td>\n",
       "      <td>2.44</td>\n",
       "      <td>2.19</td>\n",
       "      <td>57.81</td>\n",
       "      <td>53.40</td>\n",
       "      <td>8.08</td>\n",
       "      <td>92.31</td>\n",
       "      <td>Logos/PIT.png</td>\n",
       "    </tr>\n",
       "    <tr>\n",
       "      <th>24</th>\n",
       "      <td>S.J</td>\n",
       "      <td>2.52</td>\n",
       "      <td>2.14</td>\n",
       "      <td>60.06</td>\n",
       "      <td>53.94</td>\n",
       "      <td>7.42</td>\n",
       "      <td>92.10</td>\n",
       "      <td>Logos/S.J.png</td>\n",
       "    </tr>\n",
       "    <tr>\n",
       "      <th>25</th>\n",
       "      <td>STL</td>\n",
       "      <td>2.28</td>\n",
       "      <td>2.04</td>\n",
       "      <td>55.62</td>\n",
       "      <td>50.48</td>\n",
       "      <td>7.79</td>\n",
       "      <td>92.36</td>\n",
       "      <td>Logos/STL.png</td>\n",
       "    </tr>\n",
       "    <tr>\n",
       "      <th>26</th>\n",
       "      <td>T.B</td>\n",
       "      <td>2.28</td>\n",
       "      <td>2.11</td>\n",
       "      <td>55.64</td>\n",
       "      <td>53.36</td>\n",
       "      <td>8.69</td>\n",
       "      <td>92.04</td>\n",
       "      <td>Logos/T.B.png</td>\n",
       "    </tr>\n",
       "    <tr>\n",
       "      <th>27</th>\n",
       "      <td>TOR</td>\n",
       "      <td>2.30</td>\n",
       "      <td>2.50</td>\n",
       "      <td>56.05</td>\n",
       "      <td>60.60</td>\n",
       "      <td>8.51</td>\n",
       "      <td>92.19</td>\n",
       "      <td>Logos/TOR.png</td>\n",
       "    </tr>\n",
       "    <tr>\n",
       "      <th>28</th>\n",
       "      <td>VAN</td>\n",
       "      <td>2.14</td>\n",
       "      <td>2.37</td>\n",
       "      <td>53.84</td>\n",
       "      <td>54.45</td>\n",
       "      <td>7.56</td>\n",
       "      <td>92.41</td>\n",
       "      <td>Logos/VAN.png</td>\n",
       "    </tr>\n",
       "    <tr>\n",
       "      <th>29</th>\n",
       "      <td>VGK</td>\n",
       "      <td>2.58</td>\n",
       "      <td>2.30</td>\n",
       "      <td>60.96</td>\n",
       "      <td>53.92</td>\n",
       "      <td>7.95</td>\n",
       "      <td>91.88</td>\n",
       "      <td>Logos/VGK.png</td>\n",
       "    </tr>\n",
       "    <tr>\n",
       "      <th>30</th>\n",
       "      <td>WPG</td>\n",
       "      <td>2.40</td>\n",
       "      <td>2.34</td>\n",
       "      <td>55.98</td>\n",
       "      <td>54.65</td>\n",
       "      <td>8.06</td>\n",
       "      <td>92.00</td>\n",
       "      <td>Logos/WPG.png</td>\n",
       "    </tr>\n",
       "    <tr>\n",
       "      <th>31</th>\n",
       "      <td>WSH</td>\n",
       "      <td>2.25</td>\n",
       "      <td>2.27</td>\n",
       "      <td>55.38</td>\n",
       "      <td>55.18</td>\n",
       "      <td>8.46</td>\n",
       "      <td>92.67</td>\n",
       "      <td>Logos/WSH.png</td>\n",
       "    </tr>\n",
       "  </tbody>\n",
       "</table>\n",
       "</div>"
      ],
      "text/plain": [
       "   Team  xGF/60  xGA/60  CF/60  CA/60   Sh%    Sv%           logo\n",
       "0   ANA    2.29    2.33  53.54  55.57  8.02  92.51  Logos/ANA.png\n",
       "1   ARI    2.14    2.41  54.75  58.30  7.28  92.66  Logos/ARI.png\n",
       "2   ATL    2.27    2.55  54.54  58.15  7.04  91.93  Logos/ATL.png\n",
       "3   BOS    2.32    2.07  59.32  51.65  7.71  92.84  Logos/BOS.png\n",
       "4   BUF    1.99    2.36  49.60  58.80  7.08  92.42  Logos/BUF.png\n",
       "5   CAR    2.51    2.51  58.50  55.66  7.11  91.70  Logos/CAR.png\n",
       "6   CBJ    2.25    2.25  52.84  54.55  7.96  92.25  Logos/CBJ.png\n",
       "7   CGY    2.24    2.26  54.03  56.04  8.02  91.50  Logos/CGY.png\n",
       "8   CHI    2.37    2.29  58.04  51.94  7.85  92.30  Logos/CHI.png\n",
       "9   COL    2.07    2.35  52.23  58.85  7.69  92.25  Logos/COL.png\n",
       "10  DAL    2.34    2.33  56.51  56.23  8.09  92.16  Logos/DAL.png\n",
       "11  DET    2.23    2.23  53.83  51.10  7.65  92.32  Logos/DET.png\n",
       "12  EDM    2.27    2.59  51.89  58.50  7.71  91.72  Logos/EDM.png\n",
       "13  FLA    2.16    2.28  53.19  54.36  7.23  91.92  Logos/FLA.png\n",
       "14  L.A    2.32    2.10  58.39  50.01  7.14  92.53  Logos/L.A.png\n",
       "15  MIN    2.11    1.98  51.30  54.95  7.75  92.39  Logos/MIN.png\n",
       "16  MTL    2.31    2.23  57.62  55.77  7.61  92.58  Logos/MTL.png\n",
       "17  N.J    2.11    2.06  48.40  49.22  7.13  91.92  Logos/N.J.png\n",
       "18  NSH    2.23    2.10  54.61  53.66  7.88  92.59  Logos/NSH.png\n",
       "19  NYI    2.50    2.54  55.06  58.04  7.98  91.73  Logos/NYI.png\n",
       "20  NYR    2.51    2.50  53.70  56.57  8.02  92.77  Logos/NYR.png\n",
       "21  OTT    2.25    2.38  55.99  57.80  7.55  92.13  Logos/OTT.png\n",
       "22  PHI    2.29    2.33  55.79  56.70  7.83  92.16  Logos/PHI.png\n",
       "23  PIT    2.44    2.19  57.81  53.40  8.08  92.31  Logos/PIT.png\n",
       "24  S.J    2.52    2.14  60.06  53.94  7.42  92.10  Logos/S.J.png\n",
       "25  STL    2.28    2.04  55.62  50.48  7.79  92.36  Logos/STL.png\n",
       "26  T.B    2.28    2.11  55.64  53.36  8.69  92.04  Logos/T.B.png\n",
       "27  TOR    2.30    2.50  56.05  60.60  8.51  92.19  Logos/TOR.png\n",
       "28  VAN    2.14    2.37  53.84  54.45  7.56  92.41  Logos/VAN.png\n",
       "29  VGK    2.58    2.30  60.96  53.92  7.95  91.88  Logos/VGK.png\n",
       "30  WPG    2.40    2.34  55.98  54.65  8.06  92.00  Logos/WPG.png\n",
       "31  WSH    2.25    2.27  55.38  55.18  8.46  92.67  Logos/WSH.png"
      ]
     },
     "execution_count": 9,
     "metadata": {},
     "output_type": "execute_result"
    },
    {
     "data": {
      "text/plain": [
       "<matplotlib.collections.PathCollection at 0x177d16240>"
      ]
     },
     "execution_count": 9,
     "metadata": {},
     "output_type": "execute_result"
    },
    {
     "data": {
      "text/plain": [
       "<matplotlib.collections.PathCollection at 0x37bf5b710>"
      ]
     },
     "execution_count": 9,
     "metadata": {},
     "output_type": "execute_result"
    },
    {
     "data": {
      "text/plain": [
       "<matplotlib.offsetbox.AnnotationBbox at 0x177d16030>"
      ]
     },
     "execution_count": 9,
     "metadata": {},
     "output_type": "execute_result"
    },
    {
     "data": {
      "text/plain": [
       "<matplotlib.offsetbox.AnnotationBbox at 0x37acd7ef0>"
      ]
     },
     "execution_count": 9,
     "metadata": {},
     "output_type": "execute_result"
    },
    {
     "data": {
      "text/plain": [
       "<matplotlib.offsetbox.AnnotationBbox at 0x37befd250>"
      ]
     },
     "execution_count": 9,
     "metadata": {},
     "output_type": "execute_result"
    },
    {
     "data": {
      "text/plain": [
       "<matplotlib.offsetbox.AnnotationBbox at 0x37bf04200>"
      ]
     },
     "execution_count": 9,
     "metadata": {},
     "output_type": "execute_result"
    },
    {
     "data": {
      "text/plain": [
       "<matplotlib.offsetbox.AnnotationBbox at 0x37bf986e0>"
      ]
     },
     "execution_count": 9,
     "metadata": {},
     "output_type": "execute_result"
    },
    {
     "data": {
      "text/plain": [
       "<matplotlib.offsetbox.AnnotationBbox at 0x37befdf40>"
      ]
     },
     "execution_count": 9,
     "metadata": {},
     "output_type": "execute_result"
    },
    {
     "data": {
      "text/plain": [
       "<matplotlib.offsetbox.AnnotationBbox at 0x37bf99820>"
      ]
     },
     "execution_count": 9,
     "metadata": {},
     "output_type": "execute_result"
    },
    {
     "data": {
      "text/plain": [
       "<matplotlib.offsetbox.AnnotationBbox at 0x37bf998e0>"
      ]
     },
     "execution_count": 9,
     "metadata": {},
     "output_type": "execute_result"
    },
    {
     "data": {
      "text/plain": [
       "<matplotlib.offsetbox.AnnotationBbox at 0x37bf99dc0>"
      ]
     },
     "execution_count": 9,
     "metadata": {},
     "output_type": "execute_result"
    },
    {
     "data": {
      "text/plain": [
       "<matplotlib.offsetbox.AnnotationBbox at 0x37bf9a510>"
      ]
     },
     "execution_count": 9,
     "metadata": {},
     "output_type": "execute_result"
    },
    {
     "data": {
      "text/plain": [
       "<matplotlib.offsetbox.AnnotationBbox at 0x37bf9a6c0>"
      ]
     },
     "execution_count": 9,
     "metadata": {},
     "output_type": "execute_result"
    },
    {
     "data": {
      "text/plain": [
       "<matplotlib.offsetbox.AnnotationBbox at 0x37bf5b6e0>"
      ]
     },
     "execution_count": 9,
     "metadata": {},
     "output_type": "execute_result"
    },
    {
     "data": {
      "text/plain": [
       "<matplotlib.offsetbox.AnnotationBbox at 0x177ce34d0>"
      ]
     },
     "execution_count": 9,
     "metadata": {},
     "output_type": "execute_result"
    },
    {
     "data": {
      "text/plain": [
       "<matplotlib.offsetbox.AnnotationBbox at 0x174e4be00>"
      ]
     },
     "execution_count": 9,
     "metadata": {},
     "output_type": "execute_result"
    },
    {
     "data": {
      "text/plain": [
       "<matplotlib.offsetbox.AnnotationBbox at 0x37bf9be60>"
      ]
     },
     "execution_count": 9,
     "metadata": {},
     "output_type": "execute_result"
    },
    {
     "data": {
      "text/plain": [
       "<matplotlib.offsetbox.AnnotationBbox at 0x177ce0a40>"
      ]
     },
     "execution_count": 9,
     "metadata": {},
     "output_type": "execute_result"
    },
    {
     "data": {
      "text/plain": [
       "<matplotlib.offsetbox.AnnotationBbox at 0x37bfc0980>"
      ]
     },
     "execution_count": 9,
     "metadata": {},
     "output_type": "execute_result"
    },
    {
     "data": {
      "text/plain": [
       "<matplotlib.offsetbox.AnnotationBbox at 0x177c766f0>"
      ]
     },
     "execution_count": 9,
     "metadata": {},
     "output_type": "execute_result"
    },
    {
     "data": {
      "text/plain": [
       "<matplotlib.offsetbox.AnnotationBbox at 0x37bf99790>"
      ]
     },
     "execution_count": 9,
     "metadata": {},
     "output_type": "execute_result"
    },
    {
     "data": {
      "text/plain": [
       "<matplotlib.offsetbox.AnnotationBbox at 0x37bf99e20>"
      ]
     },
     "execution_count": 9,
     "metadata": {},
     "output_type": "execute_result"
    },
    {
     "data": {
      "text/plain": [
       "<matplotlib.offsetbox.AnnotationBbox at 0x37bfc1c70>"
      ]
     },
     "execution_count": 9,
     "metadata": {},
     "output_type": "execute_result"
    },
    {
     "data": {
      "text/plain": [
       "<matplotlib.offsetbox.AnnotationBbox at 0x37bf5a5d0>"
      ]
     },
     "execution_count": 9,
     "metadata": {},
     "output_type": "execute_result"
    },
    {
     "data": {
      "text/plain": [
       "<matplotlib.offsetbox.AnnotationBbox at 0x37bfc2c60>"
      ]
     },
     "execution_count": 9,
     "metadata": {},
     "output_type": "execute_result"
    },
    {
     "data": {
      "text/plain": [
       "<matplotlib.offsetbox.AnnotationBbox at 0x37ada31d0>"
      ]
     },
     "execution_count": 9,
     "metadata": {},
     "output_type": "execute_result"
    },
    {
     "data": {
      "text/plain": [
       "<matplotlib.offsetbox.AnnotationBbox at 0x17313b3b0>"
      ]
     },
     "execution_count": 9,
     "metadata": {},
     "output_type": "execute_result"
    },
    {
     "data": {
      "text/plain": [
       "<matplotlib.offsetbox.AnnotationBbox at 0x37bf5bbc0>"
      ]
     },
     "execution_count": 9,
     "metadata": {},
     "output_type": "execute_result"
    },
    {
     "data": {
      "text/plain": [
       "<matplotlib.offsetbox.AnnotationBbox at 0x37bf5bf80>"
      ]
     },
     "execution_count": 9,
     "metadata": {},
     "output_type": "execute_result"
    },
    {
     "data": {
      "text/plain": [
       "<matplotlib.offsetbox.AnnotationBbox at 0x37bfc3f50>"
      ]
     },
     "execution_count": 9,
     "metadata": {},
     "output_type": "execute_result"
    },
    {
     "data": {
      "text/plain": [
       "<matplotlib.offsetbox.AnnotationBbox at 0x37bf04ce0>"
      ]
     },
     "execution_count": 9,
     "metadata": {},
     "output_type": "execute_result"
    },
    {
     "data": {
      "text/plain": [
       "<matplotlib.offsetbox.AnnotationBbox at 0x37bf04890>"
      ]
     },
     "execution_count": 9,
     "metadata": {},
     "output_type": "execute_result"
    },
    {
     "data": {
      "text/plain": [
       "<matplotlib.offsetbox.AnnotationBbox at 0x37f83cfe0>"
      ]
     },
     "execution_count": 9,
     "metadata": {},
     "output_type": "execute_result"
    },
    {
     "data": {
      "text/plain": [
       "<matplotlib.offsetbox.AnnotationBbox at 0x37f83d700>"
      ]
     },
     "execution_count": 9,
     "metadata": {},
     "output_type": "execute_result"
    },
    {
     "data": {
      "text/plain": [
       "Text(0.5, 1.0, 'Team Performance During the 2010s')"
      ]
     },
     "execution_count": 9,
     "metadata": {},
     "output_type": "execute_result"
    },
    {
     "data": {
      "text/plain": [
       "Text(0.5, 0, 'Average xGoals For per 60')"
      ]
     },
     "execution_count": 9,
     "metadata": {},
     "output_type": "execute_result"
    },
    {
     "data": {
      "text/plain": [
       "Text(0, 0.5, 'Avergae xGoals Against per 60')"
      ]
     },
     "execution_count": 9,
     "metadata": {},
     "output_type": "execute_result"
    },
    {
     "data": {
      "text/plain": [
       "<matplotlib.lines.Line2D at 0x37bf98110>"
      ]
     },
     "execution_count": 9,
     "metadata": {},
     "output_type": "execute_result"
    },
    {
     "data": {
      "text/plain": [
       "<matplotlib.lines.Line2D at 0x37bf99eb0>"
      ]
     },
     "execution_count": 9,
     "metadata": {},
     "output_type": "execute_result"
    },
    {
     "data": {
      "image/png": "[encoded data removed]",
      "text/plain": [
       "<Figure size 960x720 with 1 Axes>"
      ]
     },
     "metadata": {},
     "output_type": "display_data"
    },
    {
     "data": {
      "image/png": "[encoded data removed]",
      "text/plain": [
       "<Figure size 1800x1200 with 1 Axes>"
      ]
     },
     "metadata": {},
     "output_type": "display_data"
    }
   ],
   "source": [
    "#plot the xGF/60 and xGA/60 of teams\n",
    "team_stats_avg[\"logo\"] = 'Logos/' + team_stats_avg['Team'] + '.png'\n",
    "\n",
    "fig, ax = plt.subplots(figsize=(8, 6), dpi=120)\n",
    "ax.scatter(team_stats_avg['xGF/60'], team_stats_avg['xGA/60'])\n",
    "def getImage(logo):\n",
    "    return OffsetImage(plt.imread(logo), zoom=.025, alpha = 1)\n",
    "\n",
    "fig, ax = plt.subplots(figsize=(8, 6), dpi=120)\n",
    "ax.scatter(team_stats_avg['xGF/60'], team_stats_avg['xGA/60'], color='white')\n",
    "\n",
    "for index, row in team_stats_avg.iterrows():\n",
    "    ab = AnnotationBbox(getImage(row['logo']), (row['xGF/60'], row['xGA/60']), frameon=False)\n",
    "    ax.add_artist(ab)\n",
    "\n",
    "plt.gcf().set_size_inches((15, 10)) \n",
    "plt.gca().invert_yaxis()\n",
    "plt.title(f\"Team Performance During the 2010s\")\n",
    "plt.xlabel('Average xGoals For per 60')\n",
    "plt.ylabel('Avergae xGoals Against per 60')\n",
    "#for i in range(new_df.shape[0]):\n",
    "          #plt.text(new_df.gsax[i], y=new_df.gsax_variance[i], s=new_df.name[i], alpha=0.8)\n",
    "plt.axvline(x=team_stats_avg['xGF/60'].mean(), color='r', linestyle='--')\n",
    "plt.axhline(y=team_stats_avg['xGA/60'].mean(), color='r', linestyle='--')\n",
    "#plt.savefig('xG_plot.png', dpi=1200, bbox_inches = \"tight\")"
   ]
  },
  {
   "cell_type": "code",
   "execution_count": 10,
   "id": "8288ccfd-5ebc-4155-b307-4bf7998fbe57",
   "metadata": {},
   "outputs": [
    {
     "data": {
      "text/html": [
       "<div>\n",
       "<style scoped>\n",
       "    .dataframe tbody tr th:only-of-type {\n",
       "        vertical-align: middle;\n",
       "    }\n",
       "\n",
       "    .dataframe tbody tr th {\n",
       "        vertical-align: top;\n",
       "    }\n",
       "\n",
       "    .dataframe thead th {\n",
       "        text-align: right;\n",
       "    }\n",
       "</style>\n",
       "<table border=\"1\" class=\"dataframe\">\n",
       "  <thead>\n",
       "    <tr style=\"text-align: right;\">\n",
       "      <th></th>\n",
       "      <th>Team</th>\n",
       "      <th>xGF/60</th>\n",
       "      <th>xGA/60</th>\n",
       "      <th>CF/60</th>\n",
       "      <th>CA/60</th>\n",
       "      <th>Sh%</th>\n",
       "      <th>Sv%</th>\n",
       "      <th>logo</th>\n",
       "    </tr>\n",
       "  </thead>\n",
       "  <tbody>\n",
       "    <tr>\n",
       "      <th>0</th>\n",
       "      <td>ANA</td>\n",
       "      <td>2.29</td>\n",
       "      <td>2.33</td>\n",
       "      <td>53.54</td>\n",
       "      <td>55.57</td>\n",
       "      <td>8.02</td>\n",
       "      <td>92.51</td>\n",
       "      <td>Logos/ANA.png</td>\n",
       "    </tr>\n",
       "    <tr>\n",
       "      <th>1</th>\n",
       "      <td>ARI</td>\n",
       "      <td>2.14</td>\n",
       "      <td>2.41</td>\n",
       "      <td>54.75</td>\n",
       "      <td>58.30</td>\n",
       "      <td>7.28</td>\n",
       "      <td>92.66</td>\n",
       "      <td>Logos/ARI.png</td>\n",
       "    </tr>\n",
       "    <tr>\n",
       "      <th>2</th>\n",
       "      <td>ATL</td>\n",
       "      <td>2.27</td>\n",
       "      <td>2.55</td>\n",
       "      <td>54.54</td>\n",
       "      <td>58.15</td>\n",
       "      <td>7.04</td>\n",
       "      <td>91.93</td>\n",
       "      <td>Logos/ATL.png</td>\n",
       "    </tr>\n",
       "    <tr>\n",
       "      <th>3</th>\n",
       "      <td>BOS</td>\n",
       "      <td>2.32</td>\n",
       "      <td>2.07</td>\n",
       "      <td>59.32</td>\n",
       "      <td>51.65</td>\n",
       "      <td>7.71</td>\n",
       "      <td>92.84</td>\n",
       "      <td>Logos/BOS.png</td>\n",
       "    </tr>\n",
       "    <tr>\n",
       "      <th>4</th>\n",
       "      <td>BUF</td>\n",
       "      <td>1.99</td>\n",
       "      <td>2.36</td>\n",
       "      <td>49.60</td>\n",
       "      <td>58.80</td>\n",
       "      <td>7.08</td>\n",
       "      <td>92.42</td>\n",
       "      <td>Logos/BUF.png</td>\n",
       "    </tr>\n",
       "    <tr>\n",
       "      <th>5</th>\n",
       "      <td>CAR</td>\n",
       "      <td>2.51</td>\n",
       "      <td>2.51</td>\n",
       "      <td>58.50</td>\n",
       "      <td>55.66</td>\n",
       "      <td>7.11</td>\n",
       "      <td>91.70</td>\n",
       "      <td>Logos/CAR.png</td>\n",
       "    </tr>\n",
       "    <tr>\n",
       "      <th>6</th>\n",
       "      <td>CBJ</td>\n",
       "      <td>2.25</td>\n",
       "      <td>2.25</td>\n",
       "      <td>52.84</td>\n",
       "      <td>54.55</td>\n",
       "      <td>7.96</td>\n",
       "      <td>92.25</td>\n",
       "      <td>Logos/CBJ.png</td>\n",
       "    </tr>\n",
       "    <tr>\n",
       "      <th>7</th>\n",
       "      <td>CGY</td>\n",
       "      <td>2.24</td>\n",
       "      <td>2.26</td>\n",
       "      <td>54.03</td>\n",
       "      <td>56.04</td>\n",
       "      <td>8.02</td>\n",
       "      <td>91.50</td>\n",
       "      <td>Logos/CGY.png</td>\n",
       "    </tr>\n",
       "    <tr>\n",
       "      <th>8</th>\n",
       "      <td>CHI</td>\n",
       "      <td>2.37</td>\n",
       "      <td>2.29</td>\n",
       "      <td>58.04</td>\n",
       "      <td>51.94</td>\n",
       "      <td>7.85</td>\n",
       "      <td>92.30</td>\n",
       "      <td>Logos/CHI.png</td>\n",
       "    </tr>\n",
       "    <tr>\n",
       "      <th>9</th>\n",
       "      <td>COL</td>\n",
       "      <td>2.07</td>\n",
       "      <td>2.35</td>\n",
       "      <td>52.23</td>\n",
       "      <td>58.85</td>\n",
       "      <td>7.69</td>\n",
       "      <td>92.25</td>\n",
       "      <td>Logos/COL.png</td>\n",
       "    </tr>\n",
       "    <tr>\n",
       "      <th>10</th>\n",
       "      <td>DAL</td>\n",
       "      <td>2.34</td>\n",
       "      <td>2.33</td>\n",
       "      <td>56.51</td>\n",
       "      <td>56.23</td>\n",
       "      <td>8.09</td>\n",
       "      <td>92.16</td>\n",
       "      <td>Logos/DAL.png</td>\n",
       "    </tr>\n",
       "    <tr>\n",
       "      <th>11</th>\n",
       "      <td>DET</td>\n",
       "      <td>2.23</td>\n",
       "      <td>2.23</td>\n",
       "      <td>53.83</td>\n",
       "      <td>51.10</td>\n",
       "      <td>7.65</td>\n",
       "      <td>92.32</td>\n",
       "      <td>Logos/DET.png</td>\n",
       "    </tr>\n",
       "    <tr>\n",
       "      <th>12</th>\n",
       "      <td>EDM</td>\n",
       "      <td>2.27</td>\n",
       "      <td>2.59</td>\n",
       "      <td>51.89</td>\n",
       "      <td>58.50</td>\n",
       "      <td>7.71</td>\n",
       "      <td>91.72</td>\n",
       "      <td>Logos/EDM.png</td>\n",
       "    </tr>\n",
       "    <tr>\n",
       "      <th>13</th>\n",
       "      <td>FLA</td>\n",
       "      <td>2.16</td>\n",
       "      <td>2.28</td>\n",
       "      <td>53.19</td>\n",
       "      <td>54.36</td>\n",
       "      <td>7.23</td>\n",
       "      <td>91.92</td>\n",
       "      <td>Logos/FLA.png</td>\n",
       "    </tr>\n",
       "    <tr>\n",
       "      <th>14</th>\n",
       "      <td>L.A</td>\n",
       "      <td>2.32</td>\n",
       "      <td>2.10</td>\n",
       "      <td>58.39</td>\n",
       "      <td>50.01</td>\n",
       "      <td>7.14</td>\n",
       "      <td>92.53</td>\n",
       "      <td>Logos/L.A.png</td>\n",
       "    </tr>\n",
       "    <tr>\n",
       "      <th>15</th>\n",
       "      <td>MIN</td>\n",
       "      <td>2.11</td>\n",
       "      <td>1.98</td>\n",
       "      <td>51.30</td>\n",
       "      <td>54.95</td>\n",
       "      <td>7.75</td>\n",
       "      <td>92.39</td>\n",
       "      <td>Logos/MIN.png</td>\n",
       "    </tr>\n",
       "    <tr>\n",
       "      <th>16</th>\n",
       "      <td>MTL</td>\n",
       "      <td>2.31</td>\n",
       "      <td>2.23</td>\n",
       "      <td>57.62</td>\n",
       "      <td>55.77</td>\n",
       "      <td>7.61</td>\n",
       "      <td>92.58</td>\n",
       "      <td>Logos/MTL.png</td>\n",
       "    </tr>\n",
       "    <tr>\n",
       "      <th>17</th>\n",
       "      <td>N.J</td>\n",
       "      <td>2.11</td>\n",
       "      <td>2.06</td>\n",
       "      <td>48.40</td>\n",
       "      <td>49.22</td>\n",
       "      <td>7.13</td>\n",
       "      <td>91.92</td>\n",
       "      <td>Logos/N.J.png</td>\n",
       "    </tr>\n",
       "    <tr>\n",
       "      <th>18</th>\n",
       "      <td>NSH</td>\n",
       "      <td>2.23</td>\n",
       "      <td>2.10</td>\n",
       "      <td>54.61</td>\n",
       "      <td>53.66</td>\n",
       "      <td>7.88</td>\n",
       "      <td>92.59</td>\n",
       "      <td>Logos/NSH.png</td>\n",
       "    </tr>\n",
       "    <tr>\n",
       "      <th>19</th>\n",
       "      <td>NYI</td>\n",
       "      <td>2.50</td>\n",
       "      <td>2.54</td>\n",
       "      <td>55.06</td>\n",
       "      <td>58.04</td>\n",
       "      <td>7.98</td>\n",
       "      <td>91.73</td>\n",
       "      <td>Logos/NYI.png</td>\n",
       "    </tr>\n",
       "    <tr>\n",
       "      <th>20</th>\n",
       "      <td>NYR</td>\n",
       "      <td>2.51</td>\n",
       "      <td>2.50</td>\n",
       "      <td>53.70</td>\n",
       "      <td>56.57</td>\n",
       "      <td>8.02</td>\n",
       "      <td>92.77</td>\n",
       "      <td>Logos/NYR.png</td>\n",
       "    </tr>\n",
       "    <tr>\n",
       "      <th>21</th>\n",
       "      <td>OTT</td>\n",
       "      <td>2.25</td>\n",
       "      <td>2.38</td>\n",
       "      <td>55.99</td>\n",
       "      <td>57.80</td>\n",
       "      <td>7.55</td>\n",
       "      <td>92.13</td>\n",
       "      <td>Logos/OTT.png</td>\n",
       "    </tr>\n",
       "    <tr>\n",
       "      <th>22</th>\n",
       "      <td>PHI</td>\n",
       "      <td>2.29</td>\n",
       "      <td>2.33</td>\n",
       "      <td>55.79</td>\n",
       "      <td>56.70</td>\n",
       "      <td>7.83</td>\n",
       "      <td>92.16</td>\n",
       "      <td>Logos/PHI.png</td>\n",
       "    </tr>\n",
       "    <tr>\n",
       "      <th>23</th>\n",
       "      <td>PIT</td>\n",
       "      <td>2.44</td>\n",
       "      <td>2.19</td>\n",
       "      <td>57.81</td>\n",
       "      <td>53.40</td>\n",
       "      <td>8.08</td>\n",
       "      <td>92.31</td>\n",
       "      <td>Logos/PIT.png</td>\n",
       "    </tr>\n",
       "    <tr>\n",
       "      <th>24</th>\n",
       "      <td>S.J</td>\n",
       "      <td>2.52</td>\n",
       "      <td>2.14</td>\n",
       "      <td>60.06</td>\n",
       "      <td>53.94</td>\n",
       "      <td>7.42</td>\n",
       "      <td>92.10</td>\n",
       "      <td>Logos/S.J.png</td>\n",
       "    </tr>\n",
       "    <tr>\n",
       "      <th>25</th>\n",
       "      <td>STL</td>\n",
       "      <td>2.28</td>\n",
       "      <td>2.04</td>\n",
       "      <td>55.62</td>\n",
       "      <td>50.48</td>\n",
       "      <td>7.79</td>\n",
       "      <td>92.36</td>\n",
       "      <td>Logos/STL.png</td>\n",
       "    </tr>\n",
       "    <tr>\n",
       "      <th>26</th>\n",
       "      <td>T.B</td>\n",
       "      <td>2.28</td>\n",
       "      <td>2.11</td>\n",
       "      <td>55.64</td>\n",
       "      <td>53.36</td>\n",
       "      <td>8.69</td>\n",
       "      <td>92.04</td>\n",
       "      <td>Logos/T.B.png</td>\n",
       "    </tr>\n",
       "    <tr>\n",
       "      <th>27</th>\n",
       "      <td>TOR</td>\n",
       "      <td>2.30</td>\n",
       "      <td>2.50</td>\n",
       "      <td>56.05</td>\n",
       "      <td>60.60</td>\n",
       "      <td>8.51</td>\n",
       "      <td>92.19</td>\n",
       "      <td>Logos/TOR.png</td>\n",
       "    </tr>\n",
       "    <tr>\n",
       "      <th>28</th>\n",
       "      <td>VAN</td>\n",
       "      <td>2.14</td>\n",
       "      <td>2.37</td>\n",
       "      <td>53.84</td>\n",
       "      <td>54.45</td>\n",
       "      <td>7.56</td>\n",
       "      <td>92.41</td>\n",
       "      <td>Logos/VAN.png</td>\n",
       "    </tr>\n",
       "    <tr>\n",
       "      <th>29</th>\n",
       "      <td>VGK</td>\n",
       "      <td>2.58</td>\n",
       "      <td>2.30</td>\n",
       "      <td>60.96</td>\n",
       "      <td>53.92</td>\n",
       "      <td>7.95</td>\n",
       "      <td>91.88</td>\n",
       "      <td>Logos/VGK.png</td>\n",
       "    </tr>\n",
       "    <tr>\n",
       "      <th>30</th>\n",
       "      <td>WPG</td>\n",
       "      <td>2.40</td>\n",
       "      <td>2.34</td>\n",
       "      <td>55.98</td>\n",
       "      <td>54.65</td>\n",
       "      <td>8.06</td>\n",
       "      <td>92.00</td>\n",
       "      <td>Logos/WPG.png</td>\n",
       "    </tr>\n",
       "    <tr>\n",
       "      <th>31</th>\n",
       "      <td>WSH</td>\n",
       "      <td>2.25</td>\n",
       "      <td>2.27</td>\n",
       "      <td>55.38</td>\n",
       "      <td>55.18</td>\n",
       "      <td>8.46</td>\n",
       "      <td>92.67</td>\n",
       "      <td>Logos/WSH.png</td>\n",
       "    </tr>\n",
       "  </tbody>\n",
       "</table>\n",
       "</div>"
      ],
      "text/plain": [
       "   Team  xGF/60  xGA/60  CF/60  CA/60   Sh%    Sv%           logo\n",
       "0   ANA    2.29    2.33  53.54  55.57  8.02  92.51  Logos/ANA.png\n",
       "1   ARI    2.14    2.41  54.75  58.30  7.28  92.66  Logos/ARI.png\n",
       "2   ATL    2.27    2.55  54.54  58.15  7.04  91.93  Logos/ATL.png\n",
       "3   BOS    2.32    2.07  59.32  51.65  7.71  92.84  Logos/BOS.png\n",
       "4   BUF    1.99    2.36  49.60  58.80  7.08  92.42  Logos/BUF.png\n",
       "5   CAR    2.51    2.51  58.50  55.66  7.11  91.70  Logos/CAR.png\n",
       "6   CBJ    2.25    2.25  52.84  54.55  7.96  92.25  Logos/CBJ.png\n",
       "7   CGY    2.24    2.26  54.03  56.04  8.02  91.50  Logos/CGY.png\n",
       "8   CHI    2.37    2.29  58.04  51.94  7.85  92.30  Logos/CHI.png\n",
       "9   COL    2.07    2.35  52.23  58.85  7.69  92.25  Logos/COL.png\n",
       "10  DAL    2.34    2.33  56.51  56.23  8.09  92.16  Logos/DAL.png\n",
       "11  DET    2.23    2.23  53.83  51.10  7.65  92.32  Logos/DET.png\n",
       "12  EDM    2.27    2.59  51.89  58.50  7.71  91.72  Logos/EDM.png\n",
       "13  FLA    2.16    2.28  53.19  54.36  7.23  91.92  Logos/FLA.png\n",
       "14  L.A    2.32    2.10  58.39  50.01  7.14  92.53  Logos/L.A.png\n",
       "15  MIN    2.11    1.98  51.30  54.95  7.75  92.39  Logos/MIN.png\n",
       "16  MTL    2.31    2.23  57.62  55.77  7.61  92.58  Logos/MTL.png\n",
       "17  N.J    2.11    2.06  48.40  49.22  7.13  91.92  Logos/N.J.png\n",
       "18  NSH    2.23    2.10  54.61  53.66  7.88  92.59  Logos/NSH.png\n",
       "19  NYI    2.50    2.54  55.06  58.04  7.98  91.73  Logos/NYI.png\n",
       "20  NYR    2.51    2.50  53.70  56.57  8.02  92.77  Logos/NYR.png\n",
       "21  OTT    2.25    2.38  55.99  57.80  7.55  92.13  Logos/OTT.png\n",
       "22  PHI    2.29    2.33  55.79  56.70  7.83  92.16  Logos/PHI.png\n",
       "23  PIT    2.44    2.19  57.81  53.40  8.08  92.31  Logos/PIT.png\n",
       "24  S.J    2.52    2.14  60.06  53.94  7.42  92.10  Logos/S.J.png\n",
       "25  STL    2.28    2.04  55.62  50.48  7.79  92.36  Logos/STL.png\n",
       "26  T.B    2.28    2.11  55.64  53.36  8.69  92.04  Logos/T.B.png\n",
       "27  TOR    2.30    2.50  56.05  60.60  8.51  92.19  Logos/TOR.png\n",
       "28  VAN    2.14    2.37  53.84  54.45  7.56  92.41  Logos/VAN.png\n",
       "29  VGK    2.58    2.30  60.96  53.92  7.95  91.88  Logos/VGK.png\n",
       "30  WPG    2.40    2.34  55.98  54.65  8.06  92.00  Logos/WPG.png\n",
       "31  WSH    2.25    2.27  55.38  55.18  8.46  92.67  Logos/WSH.png"
      ]
     },
     "execution_count": 10,
     "metadata": {},
     "output_type": "execute_result"
    },
    {
     "data": {
      "text/plain": [
       "<matplotlib.collections.PathCollection at 0x37f8627b0>"
      ]
     },
     "execution_count": 10,
     "metadata": {},
     "output_type": "execute_result"
    },
    {
     "data": {
      "text/plain": [
       "<matplotlib.collections.PathCollection at 0x37f8cdc70>"
      ]
     },
     "execution_count": 10,
     "metadata": {},
     "output_type": "execute_result"
    },
    {
     "data": {
      "text/plain": [
       "<matplotlib.offsetbox.AnnotationBbox at 0x37f913650>"
      ]
     },
     "execution_count": 10,
     "metadata": {},
     "output_type": "execute_result"
    },
    {
     "data": {
      "text/plain": [
       "<matplotlib.offsetbox.AnnotationBbox at 0x37f88df70>"
      ]
     },
     "execution_count": 10,
     "metadata": {},
     "output_type": "execute_result"
    },
    {
     "data": {
      "text/plain": [
       "<matplotlib.offsetbox.AnnotationBbox at 0x37f88fbc0>"
      ]
     },
     "execution_count": 10,
     "metadata": {},
     "output_type": "execute_result"
    },
    {
     "data": {
      "text/plain": [
       "<matplotlib.offsetbox.AnnotationBbox at 0x37f875fd0>"
      ]
     },
     "execution_count": 10,
     "metadata": {},
     "output_type": "execute_result"
    },
    {
     "data": {
      "text/plain": [
       "<matplotlib.offsetbox.AnnotationBbox at 0x37f875e80>"
      ]
     },
     "execution_count": 10,
     "metadata": {},
     "output_type": "execute_result"
    },
    {
     "data": {
      "text/plain": [
       "<matplotlib.offsetbox.AnnotationBbox at 0x37f874770>"
      ]
     },
     "execution_count": 10,
     "metadata": {},
     "output_type": "execute_result"
    },
    {
     "data": {
      "text/plain": [
       "<matplotlib.offsetbox.AnnotationBbox at 0x37f88d850>"
      ]
     },
     "execution_count": 10,
     "metadata": {},
     "output_type": "execute_result"
    },
    {
     "data": {
      "text/plain": [
       "<matplotlib.offsetbox.AnnotationBbox at 0x37f876f30>"
      ]
     },
     "execution_count": 10,
     "metadata": {},
     "output_type": "execute_result"
    },
    {
     "data": {
      "text/plain": [
       "<matplotlib.offsetbox.AnnotationBbox at 0x37ad88440>"
      ]
     },
     "execution_count": 10,
     "metadata": {},
     "output_type": "execute_result"
    },
    {
     "data": {
      "text/plain": [
       "<matplotlib.offsetbox.AnnotationBbox at 0x37ad88920>"
      ]
     },
     "execution_count": 10,
     "metadata": {},
     "output_type": "execute_result"
    },
    {
     "data": {
      "text/plain": [
       "<matplotlib.offsetbox.AnnotationBbox at 0x37f88f140>"
      ]
     },
     "execution_count": 10,
     "metadata": {},
     "output_type": "execute_result"
    },
    {
     "data": {
      "text/plain": [
       "<matplotlib.offsetbox.AnnotationBbox at 0x37ad671d0>"
      ]
     },
     "execution_count": 10,
     "metadata": {},
     "output_type": "execute_result"
    },
    {
     "data": {
      "text/plain": [
       "<matplotlib.offsetbox.AnnotationBbox at 0x37bf580e0>"
      ]
     },
     "execution_count": 10,
     "metadata": {},
     "output_type": "execute_result"
    },
    {
     "data": {
      "text/plain": [
       "<matplotlib.offsetbox.AnnotationBbox at 0x177d53d10>"
      ]
     },
     "execution_count": 10,
     "metadata": {},
     "output_type": "execute_result"
    },
    {
     "data": {
      "text/plain": [
       "<matplotlib.offsetbox.AnnotationBbox at 0x37f863aa0>"
      ]
     },
     "execution_count": 10,
     "metadata": {},
     "output_type": "execute_result"
    },
    {
     "data": {
      "text/plain": [
       "<matplotlib.offsetbox.AnnotationBbox at 0x37f8cda00>"
      ]
     },
     "execution_count": 10,
     "metadata": {},
     "output_type": "execute_result"
    },
    {
     "data": {
      "text/plain": [
       "<matplotlib.offsetbox.AnnotationBbox at 0x37f8aaae0>"
      ]
     },
     "execution_count": 10,
     "metadata": {},
     "output_type": "execute_result"
    },
    {
     "data": {
      "text/plain": [
       "<matplotlib.offsetbox.AnnotationBbox at 0x37f8626c0>"
      ]
     },
     "execution_count": 10,
     "metadata": {},
     "output_type": "execute_result"
    },
    {
     "data": {
      "text/plain": [
       "<matplotlib.offsetbox.AnnotationBbox at 0x37f8625d0>"
      ]
     },
     "execution_count": 10,
     "metadata": {},
     "output_type": "execute_result"
    },
    {
     "data": {
      "text/plain": [
       "<matplotlib.offsetbox.AnnotationBbox at 0x37f875760>"
      ]
     },
     "execution_count": 10,
     "metadata": {},
     "output_type": "execute_result"
    },
    {
     "data": {
      "text/plain": [
       "<matplotlib.offsetbox.AnnotationBbox at 0x37f8cf3b0>"
      ]
     },
     "execution_count": 10,
     "metadata": {},
     "output_type": "execute_result"
    },
    {
     "data": {
      "text/plain": [
       "<matplotlib.offsetbox.AnnotationBbox at 0x37f83fd40>"
      ]
     },
     "execution_count": 10,
     "metadata": {},
     "output_type": "execute_result"
    },
    {
     "data": {
      "text/plain": [
       "<matplotlib.offsetbox.AnnotationBbox at 0x37f8624e0>"
      ]
     },
     "execution_count": 10,
     "metadata": {},
     "output_type": "execute_result"
    },
    {
     "data": {
      "text/plain": [
       "<matplotlib.offsetbox.AnnotationBbox at 0x37ad65490>"
      ]
     },
     "execution_count": 10,
     "metadata": {},
     "output_type": "execute_result"
    },
    {
     "data": {
      "text/plain": [
       "<matplotlib.offsetbox.AnnotationBbox at 0x37f83fec0>"
      ]
     },
     "execution_count": 10,
     "metadata": {},
     "output_type": "execute_result"
    },
    {
     "data": {
      "text/plain": [
       "<matplotlib.offsetbox.AnnotationBbox at 0x37bfc1df0>"
      ]
     },
     "execution_count": 10,
     "metadata": {},
     "output_type": "execute_result"
    },
    {
     "data": {
      "text/plain": [
       "<matplotlib.offsetbox.AnnotationBbox at 0x37bfc2780>"
      ]
     },
     "execution_count": 10,
     "metadata": {},
     "output_type": "execute_result"
    },
    {
     "data": {
      "text/plain": [
       "<matplotlib.offsetbox.AnnotationBbox at 0x37f8cddf0>"
      ]
     },
     "execution_count": 10,
     "metadata": {},
     "output_type": "execute_result"
    },
    {
     "data": {
      "text/plain": [
       "<matplotlib.offsetbox.AnnotationBbox at 0x37f8759a0>"
      ]
     },
     "execution_count": 10,
     "metadata": {},
     "output_type": "execute_result"
    },
    {
     "data": {
      "text/plain": [
       "<matplotlib.offsetbox.AnnotationBbox at 0x37bf046e0>"
      ]
     },
     "execution_count": 10,
     "metadata": {},
     "output_type": "execute_result"
    },
    {
     "data": {
      "text/plain": [
       "<matplotlib.offsetbox.AnnotationBbox at 0x37f83ec60>"
      ]
     },
     "execution_count": 10,
     "metadata": {},
     "output_type": "execute_result"
    },
    {
     "data": {
      "text/plain": [
       "<matplotlib.offsetbox.AnnotationBbox at 0x37bf06ba0>"
      ]
     },
     "execution_count": 10,
     "metadata": {},
     "output_type": "execute_result"
    },
    {
     "data": {
      "text/plain": [
       "Text(0.5, 1.0, 'Team Performance During the 2010s')"
      ]
     },
     "execution_count": 10,
     "metadata": {},
     "output_type": "execute_result"
    },
    {
     "data": {
      "text/plain": [
       "Text(0.5, 0, 'Average Corsi For per 60')"
      ]
     },
     "execution_count": 10,
     "metadata": {},
     "output_type": "execute_result"
    },
    {
     "data": {
      "text/plain": [
       "Text(0, 0.5, 'Avergae Corsi Against per 60')"
      ]
     },
     "execution_count": 10,
     "metadata": {},
     "output_type": "execute_result"
    },
    {
     "data": {
      "text/plain": [
       "<matplotlib.lines.Line2D at 0x37f874b60>"
      ]
     },
     "execution_count": 10,
     "metadata": {},
     "output_type": "execute_result"
    },
    {
     "data": {
      "text/plain": [
       "<matplotlib.lines.Line2D at 0x37acd6b40>"
      ]
     },
     "execution_count": 10,
     "metadata": {},
     "output_type": "execute_result"
    },
    {
     "data": {
      "image/png": "[encoded data removed]",
      "text/plain": [
       "<Figure size 960x720 with 1 Axes>"
      ]
     },
     "metadata": {},
     "output_type": "display_data"
    },
    {
     "data": {
      "image/png": "[encoded data removed]",
      "text/plain": [
       "<Figure size 1800x1200 with 1 Axes>"
      ]
     },
     "metadata": {},
     "output_type": "display_data"
    }
   ],
   "source": [
    "#plot the CF/60 and CA/60 of teams\n",
    "#team_stats_avg[\"logo\"] = 'Logos/' + team_stats_avg['Team'] + '.png'\n",
    "\n",
    "fig, ax = plt.subplots(figsize=(8, 6), dpi=120)\n",
    "ax.scatter(team_stats_avg['CF/60'], team_stats_avg['CA/60'])\n",
    "def getImage(logo):\n",
    "    return OffsetImage(plt.imread(logo), zoom=.025, alpha = 1)\n",
    "\n",
    "fig, ax = plt.subplots(figsize=(8, 6), dpi=120)\n",
    "ax.scatter(team_stats_avg['CF/60'], team_stats_avg['CA/60'], color='white')\n",
    "\n",
    "for index, row in team_stats_avg.iterrows():\n",
    "    ab = AnnotationBbox(getImage(row['logo']), (row['CF/60'], row['CA/60']), frameon=False)\n",
    "    ax.add_artist(ab)\n",
    "\n",
    "plt.gcf().set_size_inches((15, 10)) \n",
    "plt.gca().invert_yaxis()\n",
    "plt.title(f\"Team Performance During the 2010s\")\n",
    "plt.xlabel('Average Corsi For per 60')\n",
    "plt.ylabel('Avergae Corsi Against per 60')\n",
    "#for i in range(new_df.shape[0]):\n",
    "          #plt.text(new_df.gsax[i], y=new_df.gsax_variance[i], s=new_df.name[i], alpha=0.8)\n",
    "plt.axvline(x=team_stats_avg['CF/60'].mean(), color='r', linestyle='--')\n",
    "plt.axhline(y=team_stats_avg['CF/60'].mean(), color='r', linestyle='--')\n",
    "#plt.savefig('corsi_plot.png', dpi=1200, bbox_inches = \"tight\")"
   ]
  },
  {
   "cell_type": "code",
   "execution_count": 38,
   "id": "3b815721-ef57-4993-b49c-641b885452ad",
   "metadata": {},
   "outputs": [
    {
     "data": {
      "text/plain": [
       "<matplotlib.collections.PathCollection at 0x3873647a0>"
      ]
     },
     "execution_count": 38,
     "metadata": {},
     "output_type": "execute_result"
    },
    {
     "data": {
      "text/plain": [
       "<matplotlib.collections.PathCollection at 0x38778aae0>"
      ]
     },
     "execution_count": 38,
     "metadata": {},
     "output_type": "execute_result"
    },
    {
     "data": {
      "text/plain": [
       "<matplotlib.offsetbox.AnnotationBbox at 0x3874e71a0>"
      ]
     },
     "execution_count": 38,
     "metadata": {},
     "output_type": "execute_result"
    },
    {
     "data": {
      "text/plain": [
       "<matplotlib.offsetbox.AnnotationBbox at 0x387453560>"
      ]
     },
     "execution_count": 38,
     "metadata": {},
     "output_type": "execute_result"
    },
    {
     "data": {
      "text/plain": [
       "<matplotlib.offsetbox.AnnotationBbox at 0x387510fe0>"
      ]
     },
     "execution_count": 38,
     "metadata": {},
     "output_type": "execute_result"
    },
    {
     "data": {
      "text/plain": [
       "<matplotlib.offsetbox.AnnotationBbox at 0x387679370>"
      ]
     },
     "execution_count": 38,
     "metadata": {},
     "output_type": "execute_result"
    },
    {
     "data": {
      "text/plain": [
       "<matplotlib.offsetbox.AnnotationBbox at 0x3876518b0>"
      ]
     },
     "execution_count": 38,
     "metadata": {},
     "output_type": "execute_result"
    },
    {
     "data": {
      "text/plain": [
       "<matplotlib.offsetbox.AnnotationBbox at 0x3876d0470>"
      ]
     },
     "execution_count": 38,
     "metadata": {},
     "output_type": "execute_result"
    },
    {
     "data": {
      "text/plain": [
       "<matplotlib.offsetbox.AnnotationBbox at 0x3877270b0>"
      ]
     },
     "execution_count": 38,
     "metadata": {},
     "output_type": "execute_result"
    },
    {
     "data": {
      "text/plain": [
       "<matplotlib.offsetbox.AnnotationBbox at 0x387314050>"
      ]
     },
     "execution_count": 38,
     "metadata": {},
     "output_type": "execute_result"
    },
    {
     "data": {
      "text/plain": [
       "<matplotlib.offsetbox.AnnotationBbox at 0x387652450>"
      ]
     },
     "execution_count": 38,
     "metadata": {},
     "output_type": "execute_result"
    },
    {
     "data": {
      "text/plain": [
       "<matplotlib.offsetbox.AnnotationBbox at 0x38767b3e0>"
      ]
     },
     "execution_count": 38,
     "metadata": {},
     "output_type": "execute_result"
    },
    {
     "data": {
      "text/plain": [
       "<matplotlib.offsetbox.AnnotationBbox at 0x3875c4200>"
      ]
     },
     "execution_count": 38,
     "metadata": {},
     "output_type": "execute_result"
    },
    {
     "data": {
      "text/plain": [
       "<matplotlib.offsetbox.AnnotationBbox at 0x387727110>"
      ]
     },
     "execution_count": 38,
     "metadata": {},
     "output_type": "execute_result"
    },
    {
     "data": {
      "text/plain": [
       "<matplotlib.offsetbox.AnnotationBbox at 0x3876fec00>"
      ]
     },
     "execution_count": 38,
     "metadata": {},
     "output_type": "execute_result"
    },
    {
     "data": {
      "text/plain": [
       "<matplotlib.offsetbox.AnnotationBbox at 0x387788140>"
      ]
     },
     "execution_count": 38,
     "metadata": {},
     "output_type": "execute_result"
    },
    {
     "data": {
      "text/plain": [
       "<matplotlib.offsetbox.AnnotationBbox at 0x3877b3ef0>"
      ]
     },
     "execution_count": 38,
     "metadata": {},
     "output_type": "execute_result"
    },
    {
     "data": {
      "text/plain": [
       "<matplotlib.offsetbox.AnnotationBbox at 0x3877880e0>"
      ]
     },
     "execution_count": 38,
     "metadata": {},
     "output_type": "execute_result"
    },
    {
     "data": {
      "text/plain": [
       "<matplotlib.offsetbox.AnnotationBbox at 0x387724a40>"
      ]
     },
     "execution_count": 38,
     "metadata": {},
     "output_type": "execute_result"
    },
    {
     "data": {
      "text/plain": [
       "<matplotlib.offsetbox.AnnotationBbox at 0x3877b35c0>"
      ]
     },
     "execution_count": 38,
     "metadata": {},
     "output_type": "execute_result"
    },
    {
     "data": {
      "text/plain": [
       "<matplotlib.offsetbox.AnnotationBbox at 0x3876e3410>"
      ]
     },
     "execution_count": 38,
     "metadata": {},
     "output_type": "execute_result"
    },
    {
     "data": {
      "text/plain": [
       "<matplotlib.offsetbox.AnnotationBbox at 0x387741940>"
      ]
     },
     "execution_count": 38,
     "metadata": {},
     "output_type": "execute_result"
    },
    {
     "data": {
      "text/plain": [
       "<matplotlib.offsetbox.AnnotationBbox at 0x3876e0620>"
      ]
     },
     "execution_count": 38,
     "metadata": {},
     "output_type": "execute_result"
    },
    {
     "data": {
      "text/plain": [
       "<matplotlib.offsetbox.AnnotationBbox at 0x3876e10a0>"
      ]
     },
     "execution_count": 38,
     "metadata": {},
     "output_type": "execute_result"
    },
    {
     "data": {
      "text/plain": [
       "<matplotlib.offsetbox.AnnotationBbox at 0x3876fc110>"
      ]
     },
     "execution_count": 38,
     "metadata": {},
     "output_type": "execute_result"
    },
    {
     "data": {
      "text/plain": [
       "<matplotlib.offsetbox.AnnotationBbox at 0x3876fdee0>"
      ]
     },
     "execution_count": 38,
     "metadata": {},
     "output_type": "execute_result"
    },
    {
     "data": {
      "text/plain": [
       "<matplotlib.offsetbox.AnnotationBbox at 0x3876fd250>"
      ]
     },
     "execution_count": 38,
     "metadata": {},
     "output_type": "execute_result"
    },
    {
     "data": {
      "text/plain": [
       "<matplotlib.offsetbox.AnnotationBbox at 0x387727d70>"
      ]
     },
     "execution_count": 38,
     "metadata": {},
     "output_type": "execute_result"
    },
    {
     "data": {
      "text/plain": [
       "<matplotlib.offsetbox.AnnotationBbox at 0x3876e0290>"
      ]
     },
     "execution_count": 38,
     "metadata": {},
     "output_type": "execute_result"
    },
    {
     "data": {
      "text/plain": [
       "<matplotlib.offsetbox.AnnotationBbox at 0x3877b1490>"
      ]
     },
     "execution_count": 38,
     "metadata": {},
     "output_type": "execute_result"
    },
    {
     "data": {
      "text/plain": [
       "<matplotlib.offsetbox.AnnotationBbox at 0x3876e05f0>"
      ]
     },
     "execution_count": 38,
     "metadata": {},
     "output_type": "execute_result"
    },
    {
     "data": {
      "text/plain": [
       "<matplotlib.offsetbox.AnnotationBbox at 0x3876e1640>"
      ]
     },
     "execution_count": 38,
     "metadata": {},
     "output_type": "execute_result"
    },
    {
     "data": {
      "text/plain": [
       "<matplotlib.offsetbox.AnnotationBbox at 0x3876d0d10>"
      ]
     },
     "execution_count": 38,
     "metadata": {},
     "output_type": "execute_result"
    },
    {
     "data": {
      "text/plain": [
       "<matplotlib.offsetbox.AnnotationBbox at 0x3876d28a0>"
      ]
     },
     "execution_count": 38,
     "metadata": {},
     "output_type": "execute_result"
    },
    {
     "data": {
      "text/plain": [
       "Text(0.5, 1.0, 'Team Performance During the 2010s')"
      ]
     },
     "execution_count": 38,
     "metadata": {},
     "output_type": "execute_result"
    },
    {
     "data": {
      "text/plain": [
       "Text(0.5, 0, 'Average Save %')"
      ]
     },
     "execution_count": 38,
     "metadata": {},
     "output_type": "execute_result"
    },
    {
     "data": {
      "text/plain": [
       "Text(0, 0.5, 'Avergae Shooting %')"
      ]
     },
     "execution_count": 38,
     "metadata": {},
     "output_type": "execute_result"
    },
    {
     "data": {
      "text/plain": [
       "<matplotlib.lines.Line2D at 0x38778aba0>"
      ]
     },
     "execution_count": 38,
     "metadata": {},
     "output_type": "execute_result"
    },
    {
     "data": {
      "text/plain": [
       "<matplotlib.lines.Line2D at 0x3876aa030>"
      ]
     },
     "execution_count": 38,
     "metadata": {},
     "output_type": "execute_result"
    },
    {
     "data": {
      "image/png": "[encoded data removed]",
      "text/plain": [
       "<Figure size 720x480 with 1 Axes>"
      ]
     },
     "metadata": {},
     "output_type": "display_data"
    },
    {
     "data": {
      "image/png": "[encoded data removed]",
      "text/plain": [
       "<Figure size 1800x1200 with 1 Axes>"
      ]
     },
     "metadata": {},
     "output_type": "display_data"
    }
   ],
   "source": [
    "#plot Sv% and Sh% of teams\n",
    "fig, ax = plt.subplots(figsize=(6, 4), dpi=120)\n",
    "ax.scatter(team_standings_avg['Sv%'], team_standings_avg['Sh%'])\n",
    "def getImage(logo):\n",
    "    return OffsetImage(plt.imread(logo), zoom=.025, alpha = 1)\n",
    "\n",
    "fig, ax = plt.subplots(figsize=(6, 4), dpi=120)\n",
    "ax.scatter(team_standings_avg['Sv%'], team_standings_avg['Sh%'], color='white')\n",
    "\n",
    "for index, row in team_standings_avg.iterrows():\n",
    "    ab = AnnotationBbox(getImage(row['logo']), (row['Sv%'], row['Sh%']), frameon=False)\n",
    "    ax.add_artist(ab)\n",
    "\n",
    "plt.gcf().set_size_inches((15, 10)) \n",
    "#plt.gca().invert_yaxis()\n",
    "plt.title(f\"Team Performance During the 2010s\")\n",
    "plt.xlabel('Average Save %')\n",
    "plt.ylabel('Avergae Shooting %')\n",
    "#for i in range(new_df.shape[0]):\n",
    "          #plt.text(new_df.gsax[i], y=new_df.gsax_variance[i], s=new_df.name[i], alpha=0.8)\n",
    "plt.axvline(x=team_standings_avg['Sv%'].mean(), color='r', linestyle='--')\n",
    "plt.axhline(y=team_standings_avg['Sh%'].mean(), color='r', linestyle='--')\n",
    "plt.savefig('PDO.png', dpi=1200, bbox_inches = \"tight\")"
   ]
  },
  {
   "cell_type": "code",
   "execution_count": null,
   "id": "5015b1a4-2ec9-433d-b452-0f4ae7d18ad4",
   "metadata": {},
   "outputs": [],
   "source": []
  }
 ],
 "metadata": {
  "kernelspec": {
   "display_name": "Python [conda env:base] *",
   "language": "python",
   "name": "conda-base-py"
  },
  "language_info": {
   "codemirror_mode": {
    "name": "ipython",
    "version": 3
   },
   "file_extension": ".py",
   "mimetype": "text/x-python",
   "name": "python",
   "nbconvert_exporter": "python",
   "pygments_lexer": "ipython3",
   "version": "3.12.7"
  }
 },
 "nbformat": 4,
 "nbformat_minor": 5
}
