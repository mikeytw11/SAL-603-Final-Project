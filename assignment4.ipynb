{
 "cells": [
  {
   "cell_type": "code",
   "execution_count": 26,
   "id": "fc0e3111-5417-4e4c-953c-e851b175ab05",
   "metadata": {},
   "outputs": [],
   "source": [
    "#allow ouput from every line\n",
    "from IPython.core.interactiveshell import InteractiveShell\n",
    "InteractiveShell.ast_node_interactivity = \"all\"\n",
    "import pandas as pd\n",
    "import numpy as np"
   ]
  },
  {
   "cell_type": "code",
   "execution_count": 28,
   "id": "97a5702d-5c43-4b6f-a1e4-abdfb89a4adb",
   "metadata": {},
   "outputs": [],
   "source": [
    "#read in the files of the 4 NHL teams for the 2024-25 season\n",
    "avalanche = pd.read_csv(\"data/avalanche_roster.csv\", index_col = \"Player\")\n",
    "devils = pd.read_csv(\"data/devils_roster.csv\", index_col = \"Player\")\n",
    "penguins = pd.read_csv(\"data/penguins_roster.csv\", index_col = \"Player\")\n",
    "rangers = pd.read_csv(\"data/rangers_roster.csv\", index_col = \"Player\")"
   ]
  },
  {
   "cell_type": "code",
   "execution_count": 20,
   "id": "ef7b710a-f39f-480f-86a7-e6384b28c19f",
   "metadata": {},
   "outputs": [],
   "source": [
    "#create a column for team name when combining dataframes\n",
    "avalanche[\"Team\"] = \"COL\"\n",
    "devils[\"Team\"] = \"N.J\"\n",
    "penguins[\"Team\"] = \"PIT\"\n",
    "rangers[\"Team\"] = \"NYR\""
   ]
  },
  {
   "cell_type": "code",
   "execution_count": 30,
   "id": "e9a62f52-56ab-4d2f-907e-dd0f46aa9178",
   "metadata": {},
   "outputs": [],
   "source": [
    "#Combine all dataframes to one single dataframe\n",
    "team_rosters = pd.concat([avalanche, devils, penguins, rangers], axis=0) # concatenating along rows\n",
    "#Save dataframe as a csv file\n",
    "team_rosters.to_csv(\"team_rosters.csv\")"
   ]
  },
  {
   "cell_type": "code",
   "execution_count": null,
   "id": "2174440d-943f-4c44-a123-bc3c5d9e8e2e",
   "metadata": {},
   "outputs": [],
   "source": []
  }
 ],
 "metadata": {
  "kernelspec": {
   "display_name": "Python [conda env:base] *",
   "language": "python",
   "name": "conda-base-py"
  },
  "language_info": {
   "codemirror_mode": {
    "name": "ipython",
    "version": 3
   },
   "file_extension": ".py",
   "mimetype": "text/x-python",
   "name": "python",
   "nbconvert_exporter": "python",
   "pygments_lexer": "ipython3",
   "version": "3.12.7"
  }
 },
 "nbformat": 4,
 "nbformat_minor": 5
}
